{
  "nbformat": 4,
  "nbformat_minor": 0,
  "metadata": {
    "colab": {
      "name": "Class_Project_3_Yuanwei_Xu.ipynb",
      "provenance": [],
      "collapsed_sections": [],
      "authorship_tag": "ABX9TyN2wyZwlk1+xffr0f7ACAq1",
      "include_colab_link": true
    },
    "kernelspec": {
      "name": "python3",
      "display_name": "Python 3"
    }
  },
  "cells": [
    {
      "cell_type": "markdown",
      "metadata": {
        "id": "view-in-github",
        "colab_type": "text"
      },
      "source": [
        "<a href=\"https://colab.research.google.com/github/VamBay/DS4BME_YUANWEI_XU/blob/master/Class_Project_3_Yuanwei_Xu.ipynb\" target=\"_parent\"><img src=\"https://colab.research.google.com/assets/colab-badge.svg\" alt=\"Open In Colab\"/></a>"
      ]
    },
    {
      "cell_type": "markdown",
      "metadata": {
        "id": "SjHagw-Z7ufy",
        "colab_type": "text"
      },
      "source": [
        "# Project 3\n",
        "\n",
        "1. Do a scatterplot of the left telencephalon **(type 1 level 1) volume** by the right. The kirby 21 dataset can be found [here](https://raw.githubusercontent.com/bcaffo/ds4bme_intro/master/data/kirby21.csv) \n",
        "2. Create a vector of the left telencelphalon **(type 1 level 1) volume** values and the right. Demean each. Fit a regression through the origin model with the left telecephalon as the outcome and the right as the predictor. Also do the same with the left as the predictor and the right as the outcome. Plot the fitted lines on your scatterplot. \n",
        "3. Consider a regression through the origin model $Y=BX$. What would be the impact on the estimate of $B$ if we replaced $X$ by $cX$ where $c$ is a positive constant?\n",
        "4. Let $X_i$ be a group indicator so that \n",
        "$$\n",
        "x_i = I(i \\in G_1)\n",
        "$$\n",
        "I.e. takes the value $1$ when $i$ is in group 1 and 0 if $i$ is in group 0. Consider optimizing \n",
        "$$\n",
        "\\sum_{i=1}^n (Y_i - \\beta_0 - \\beta_1 X_i)^2.\n",
        "$$\n",
        "If $\\hat Y = \\hat \\beta_0 + \\hat \\beta_1 X$ argue that $\\hat Y$ is the group mean for group 1 if $X=1$ and the group mean for group 0 if $X=0$. \n",
        "5. Write a python function that takes an X and Y vector and returns an estimated $\\beta_0$ and $\\beta_1$ from linear regression using only basic functions such as mean, sd and correlation.\n",
        "6. Consider the Kirby 21 data. Plot a scatter plot of the left diencephalon (type 1 level 1) and the right. Find the best line fit for predicting the right using the left. Plot the line on the scatterplot. Find the best fit line for predicting the left using the right as a predictor. Plot this on the same plot.\n",
        "7. Argue that if you take the vectors $Y$ and $X$ and divide them by their standard deviations (respectively), the slope for either regressing $Y$ on $X$ or $X$ on $Y$ is simply the correlation. \n"
      ]
    },
    {
      "cell_type": "code",
      "metadata": {
        "id": "CowKMftn7bkK",
        "colab_type": "code",
        "colab": {}
      },
      "source": [
        "## Import Modules\n",
        "import numpy as np\n",
        "import pandas as pd\n",
        "import seaborn as sns\n",
        "from scipy import stats as st\n",
        "import matplotlib.pyplot as plt\n",
        "import sklearn.linear_model as lm\n",
        "\n",
        "## Import Files\n",
        "## this sets some style parameters\n",
        "sns.set()\n",
        "\n",
        "## Download in the data if it's not already there\n",
        "! if [ ! -e kirby21.csv ]; \\\n",
        "then wget https://raw.githubusercontent.com/bcaffo/ds4bme_intro/master/data/kirby21.csv; \\\n",
        "fi;\n",
        "\n",
        "## Read in the data and display a few rows\n",
        "dat = pd.read_csv(\"kirby21.csv\")"
      ],
      "execution_count": 27,
      "outputs": []
    },
    {
      "cell_type": "markdown",
      "metadata": {
        "id": "ZVjbJZm8Vm_B",
        "colab_type": "text"
      },
      "source": [
        "1. Do a scatterplot of the left telencephalon **(type 1 level 1) volume** by the right."
      ]
    },
    {
      "cell_type": "code",
      "metadata": {
        "id": "sl5W-RUzT5A0",
        "colab_type": "code",
        "colab": {
          "base_uri": "https://localhost:8080/",
          "height": 677
        },
        "outputId": "d07ce1a1-5b0a-4b70-b6b0-fbb0f7e5faa3"
      },
      "source": [
        "## Read Data in Pandas\n",
        "df = pd.read_csv(\"kirby21.csv\")\n",
        "df = df.drop(['Unnamed: 0', 'rawid'],\\\n",
        "               axis = 1)\n",
        "## Extract the Type 1 Level 1 data\n",
        "t1l1 = df.loc[(df.type == 1) & (df.level == 1)]\n",
        "t1l1.head(20)\n",
        "t1l1.set_index(\"id\", inplace = True)\n",
        "t1l1.head(20)\n"
      ],
      "execution_count": 28,
      "outputs": [
        {
          "output_type": "execute_result",
          "data": {
            "text/html": [
              "<div>\n",
              "<style scoped>\n",
              "    .dataframe tbody tr th:only-of-type {\n",
              "        vertical-align: middle;\n",
              "    }\n",
              "\n",
              "    .dataframe tbody tr th {\n",
              "        vertical-align: top;\n",
              "    }\n",
              "\n",
              "    .dataframe thead th {\n",
              "        text-align: right;\n",
              "    }\n",
              "</style>\n",
              "<table border=\"1\" class=\"dataframe\">\n",
              "  <thead>\n",
              "    <tr style=\"text-align: right;\">\n",
              "      <th></th>\n",
              "      <th>roi</th>\n",
              "      <th>volume</th>\n",
              "      <th>min</th>\n",
              "      <th>max</th>\n",
              "      <th>mean</th>\n",
              "      <th>std</th>\n",
              "      <th>type</th>\n",
              "      <th>level</th>\n",
              "      <th>icv</th>\n",
              "      <th>tbv</th>\n",
              "    </tr>\n",
              "    <tr>\n",
              "      <th>id</th>\n",
              "      <th></th>\n",
              "      <th></th>\n",
              "      <th></th>\n",
              "      <th></th>\n",
              "      <th></th>\n",
              "      <th></th>\n",
              "      <th></th>\n",
              "      <th></th>\n",
              "      <th></th>\n",
              "      <th></th>\n",
              "    </tr>\n",
              "  </thead>\n",
              "  <tbody>\n",
              "    <tr>\n",
              "      <th>127</th>\n",
              "      <td>Telencephalon_L</td>\n",
              "      <td>531111</td>\n",
              "      <td>0.0</td>\n",
              "      <td>374.0</td>\n",
              "      <td>128.3013</td>\n",
              "      <td>51.8593</td>\n",
              "      <td>1</td>\n",
              "      <td>1</td>\n",
              "      <td>1378295</td>\n",
              "      <td>1268519</td>\n",
              "    </tr>\n",
              "    <tr>\n",
              "      <th>127</th>\n",
              "      <td>Telencephalon_R</td>\n",
              "      <td>543404</td>\n",
              "      <td>0.0</td>\n",
              "      <td>300.0</td>\n",
              "      <td>135.0683</td>\n",
              "      <td>53.6471</td>\n",
              "      <td>1</td>\n",
              "      <td>1</td>\n",
              "      <td>1378295</td>\n",
              "      <td>1268519</td>\n",
              "    </tr>\n",
              "    <tr>\n",
              "      <th>127</th>\n",
              "      <td>Diencephalon_L</td>\n",
              "      <td>9683</td>\n",
              "      <td>15.0</td>\n",
              "      <td>295.0</td>\n",
              "      <td>193.5488</td>\n",
              "      <td>32.2733</td>\n",
              "      <td>1</td>\n",
              "      <td>1</td>\n",
              "      <td>1378295</td>\n",
              "      <td>1268519</td>\n",
              "    </tr>\n",
              "    <tr>\n",
              "      <th>127</th>\n",
              "      <td>Diencephalon_R</td>\n",
              "      <td>9678</td>\n",
              "      <td>10.0</td>\n",
              "      <td>335.0</td>\n",
              "      <td>193.7051</td>\n",
              "      <td>32.7869</td>\n",
              "      <td>1</td>\n",
              "      <td>1</td>\n",
              "      <td>1378295</td>\n",
              "      <td>1268519</td>\n",
              "    </tr>\n",
              "    <tr>\n",
              "      <th>127</th>\n",
              "      <td>Mesencephalon</td>\n",
              "      <td>10268</td>\n",
              "      <td>55.0</td>\n",
              "      <td>307.0</td>\n",
              "      <td>230.8583</td>\n",
              "      <td>29.2249</td>\n",
              "      <td>1</td>\n",
              "      <td>1</td>\n",
              "      <td>1378295</td>\n",
              "      <td>1268519</td>\n",
              "    </tr>\n",
              "    <tr>\n",
              "      <th>127</th>\n",
              "      <td>Metencephalon</td>\n",
              "      <td>159402</td>\n",
              "      <td>2.0</td>\n",
              "      <td>299.0</td>\n",
              "      <td>138.5200</td>\n",
              "      <td>52.2241</td>\n",
              "      <td>1</td>\n",
              "      <td>1</td>\n",
              "      <td>1378295</td>\n",
              "      <td>1268519</td>\n",
              "    </tr>\n",
              "    <tr>\n",
              "      <th>127</th>\n",
              "      <td>Myelencephalon</td>\n",
              "      <td>4973</td>\n",
              "      <td>12.0</td>\n",
              "      <td>286.0</td>\n",
              "      <td>199.8497</td>\n",
              "      <td>36.6501</td>\n",
              "      <td>1</td>\n",
              "      <td>1</td>\n",
              "      <td>1378295</td>\n",
              "      <td>1268519</td>\n",
              "    </tr>\n",
              "    <tr>\n",
              "      <th>127</th>\n",
              "      <td>CSF</td>\n",
              "      <td>109776</td>\n",
              "      <td>0.0</td>\n",
              "      <td>258.0</td>\n",
              "      <td>33.0193</td>\n",
              "      <td>26.3262</td>\n",
              "      <td>1</td>\n",
              "      <td>1</td>\n",
              "      <td>1378295</td>\n",
              "      <td>1268519</td>\n",
              "    </tr>\n",
              "    <tr>\n",
              "      <th>142</th>\n",
              "      <td>Telencephalon_L</td>\n",
              "      <td>545603</td>\n",
              "      <td>1.0</td>\n",
              "      <td>378.0</td>\n",
              "      <td>148.7835</td>\n",
              "      <td>56.9909</td>\n",
              "      <td>1</td>\n",
              "      <td>1</td>\n",
              "      <td>1404611</td>\n",
              "      <td>1297277</td>\n",
              "    </tr>\n",
              "    <tr>\n",
              "      <th>142</th>\n",
              "      <td>Telencephalon_R</td>\n",
              "      <td>552216</td>\n",
              "      <td>0.0</td>\n",
              "      <td>376.0</td>\n",
              "      <td>156.1920</td>\n",
              "      <td>58.5402</td>\n",
              "      <td>1</td>\n",
              "      <td>1</td>\n",
              "      <td>1404611</td>\n",
              "      <td>1297277</td>\n",
              "    </tr>\n",
              "    <tr>\n",
              "      <th>142</th>\n",
              "      <td>Diencephalon_L</td>\n",
              "      <td>9156</td>\n",
              "      <td>30.0</td>\n",
              "      <td>318.0</td>\n",
              "      <td>215.9604</td>\n",
              "      <td>35.2760</td>\n",
              "      <td>1</td>\n",
              "      <td>1</td>\n",
              "      <td>1404611</td>\n",
              "      <td>1297277</td>\n",
              "    </tr>\n",
              "    <tr>\n",
              "      <th>142</th>\n",
              "      <td>Diencephalon_R</td>\n",
              "      <td>9071</td>\n",
              "      <td>56.0</td>\n",
              "      <td>355.0</td>\n",
              "      <td>219.9847</td>\n",
              "      <td>34.1217</td>\n",
              "      <td>1</td>\n",
              "      <td>1</td>\n",
              "      <td>1404611</td>\n",
              "      <td>1297277</td>\n",
              "    </tr>\n",
              "    <tr>\n",
              "      <th>142</th>\n",
              "      <td>Mesencephalon</td>\n",
              "      <td>10516</td>\n",
              "      <td>68.0</td>\n",
              "      <td>330.0</td>\n",
              "      <td>252.7194</td>\n",
              "      <td>28.4571</td>\n",
              "      <td>1</td>\n",
              "      <td>1</td>\n",
              "      <td>1404611</td>\n",
              "      <td>1297277</td>\n",
              "    </tr>\n",
              "    <tr>\n",
              "      <th>142</th>\n",
              "      <td>Metencephalon</td>\n",
              "      <td>165803</td>\n",
              "      <td>1.0</td>\n",
              "      <td>310.0</td>\n",
              "      <td>150.7642</td>\n",
              "      <td>55.8619</td>\n",
              "      <td>1</td>\n",
              "      <td>1</td>\n",
              "      <td>1404611</td>\n",
              "      <td>1297277</td>\n",
              "    </tr>\n",
              "    <tr>\n",
              "      <th>142</th>\n",
              "      <td>Myelencephalon</td>\n",
              "      <td>4912</td>\n",
              "      <td>36.0</td>\n",
              "      <td>297.0</td>\n",
              "      <td>214.7564</td>\n",
              "      <td>36.8113</td>\n",
              "      <td>1</td>\n",
              "      <td>1</td>\n",
              "      <td>1404611</td>\n",
              "      <td>1297277</td>\n",
              "    </tr>\n",
              "    <tr>\n",
              "      <th>142</th>\n",
              "      <td>CSF</td>\n",
              "      <td>107334</td>\n",
              "      <td>0.0</td>\n",
              "      <td>283.0</td>\n",
              "      <td>38.3012</td>\n",
              "      <td>30.1581</td>\n",
              "      <td>1</td>\n",
              "      <td>1</td>\n",
              "      <td>1404611</td>\n",
              "      <td>1297277</td>\n",
              "    </tr>\n",
              "    <tr>\n",
              "      <th>239</th>\n",
              "      <td>Telencephalon_L</td>\n",
              "      <td>483107</td>\n",
              "      <td>0.0</td>\n",
              "      <td>507.0</td>\n",
              "      <td>145.7248</td>\n",
              "      <td>57.8707</td>\n",
              "      <td>1</td>\n",
              "      <td>1</td>\n",
              "      <td>1223704</td>\n",
              "      <td>1129450</td>\n",
              "    </tr>\n",
              "    <tr>\n",
              "      <th>239</th>\n",
              "      <td>Telencephalon_R</td>\n",
              "      <td>490805</td>\n",
              "      <td>0.0</td>\n",
              "      <td>371.0</td>\n",
              "      <td>153.9713</td>\n",
              "      <td>59.8162</td>\n",
              "      <td>1</td>\n",
              "      <td>1</td>\n",
              "      <td>1223704</td>\n",
              "      <td>1129450</td>\n",
              "    </tr>\n",
              "    <tr>\n",
              "      <th>239</th>\n",
              "      <td>Diencephalon_L</td>\n",
              "      <td>8937</td>\n",
              "      <td>47.0</td>\n",
              "      <td>425.0</td>\n",
              "      <td>220.2363</td>\n",
              "      <td>32.7255</td>\n",
              "      <td>1</td>\n",
              "      <td>1</td>\n",
              "      <td>1223704</td>\n",
              "      <td>1129450</td>\n",
              "    </tr>\n",
              "    <tr>\n",
              "      <th>239</th>\n",
              "      <td>Diencephalon_R</td>\n",
              "      <td>9004</td>\n",
              "      <td>33.0</td>\n",
              "      <td>333.0</td>\n",
              "      <td>224.5235</td>\n",
              "      <td>32.2017</td>\n",
              "      <td>1</td>\n",
              "      <td>1</td>\n",
              "      <td>1223704</td>\n",
              "      <td>1129450</td>\n",
              "    </tr>\n",
              "  </tbody>\n",
              "</table>\n",
              "</div>"
            ],
            "text/plain": [
              "                 roi  volume   min    max  ...  type  level      icv      tbv\n",
              "id                                         ...                               \n",
              "127  Telencephalon_L  531111   0.0  374.0  ...     1      1  1378295  1268519\n",
              "127  Telencephalon_R  543404   0.0  300.0  ...     1      1  1378295  1268519\n",
              "127   Diencephalon_L    9683  15.0  295.0  ...     1      1  1378295  1268519\n",
              "127   Diencephalon_R    9678  10.0  335.0  ...     1      1  1378295  1268519\n",
              "127    Mesencephalon   10268  55.0  307.0  ...     1      1  1378295  1268519\n",
              "127    Metencephalon  159402   2.0  299.0  ...     1      1  1378295  1268519\n",
              "127   Myelencephalon    4973  12.0  286.0  ...     1      1  1378295  1268519\n",
              "127              CSF  109776   0.0  258.0  ...     1      1  1378295  1268519\n",
              "142  Telencephalon_L  545603   1.0  378.0  ...     1      1  1404611  1297277\n",
              "142  Telencephalon_R  552216   0.0  376.0  ...     1      1  1404611  1297277\n",
              "142   Diencephalon_L    9156  30.0  318.0  ...     1      1  1404611  1297277\n",
              "142   Diencephalon_R    9071  56.0  355.0  ...     1      1  1404611  1297277\n",
              "142    Mesencephalon   10516  68.0  330.0  ...     1      1  1404611  1297277\n",
              "142    Metencephalon  165803   1.0  310.0  ...     1      1  1404611  1297277\n",
              "142   Myelencephalon    4912  36.0  297.0  ...     1      1  1404611  1297277\n",
              "142              CSF  107334   0.0  283.0  ...     1      1  1404611  1297277\n",
              "239  Telencephalon_L  483107   0.0  507.0  ...     1      1  1223704  1129450\n",
              "239  Telencephalon_R  490805   0.0  371.0  ...     1      1  1223704  1129450\n",
              "239   Diencephalon_L    8937  47.0  425.0  ...     1      1  1223704  1129450\n",
              "239   Diencephalon_R    9004  33.0  333.0  ...     1      1  1223704  1129450\n",
              "\n",
              "[20 rows x 10 columns]"
            ]
          },
          "metadata": {
            "tags": []
          },
          "execution_count": 28
        }
      ]
    },
    {
      "cell_type": "code",
      "metadata": {
        "id": "Lkcy7k0xdBDi",
        "colab_type": "code",
        "colab": {
          "base_uri": "https://localhost:8080/",
          "height": 227
        },
        "outputId": "d767759c-ee2f-4769-c1e0-831ff8601118"
      },
      "source": [
        "tele_L_df = t1l1.loc[(t1l1.roi == \"Telencephalon_L\")]\n",
        "tele_R_df = t1l1.loc[(t1l1.roi == \"Telencephalon_R\")]\n",
        "tele_V_df = pd.DataFrame({'Telencephalon L Volume': tele_L_df.volume,\n",
        "                   'Telencephalon R Volume': tele_R_df.volume,})\n",
        "tele_V_df.head()"
      ],
      "execution_count": 29,
      "outputs": [
        {
          "output_type": "execute_result",
          "data": {
            "text/html": [
              "<div>\n",
              "<style scoped>\n",
              "    .dataframe tbody tr th:only-of-type {\n",
              "        vertical-align: middle;\n",
              "    }\n",
              "\n",
              "    .dataframe tbody tr th {\n",
              "        vertical-align: top;\n",
              "    }\n",
              "\n",
              "    .dataframe thead th {\n",
              "        text-align: right;\n",
              "    }\n",
              "</style>\n",
              "<table border=\"1\" class=\"dataframe\">\n",
              "  <thead>\n",
              "    <tr style=\"text-align: right;\">\n",
              "      <th></th>\n",
              "      <th>Telencephalon L Volume</th>\n",
              "      <th>Telencephalon R Volume</th>\n",
              "    </tr>\n",
              "    <tr>\n",
              "      <th>id</th>\n",
              "      <th></th>\n",
              "      <th></th>\n",
              "    </tr>\n",
              "  </thead>\n",
              "  <tbody>\n",
              "    <tr>\n",
              "      <th>127</th>\n",
              "      <td>531111</td>\n",
              "      <td>543404</td>\n",
              "    </tr>\n",
              "    <tr>\n",
              "      <th>142</th>\n",
              "      <td>545603</td>\n",
              "      <td>552216</td>\n",
              "    </tr>\n",
              "    <tr>\n",
              "      <th>239</th>\n",
              "      <td>483107</td>\n",
              "      <td>490805</td>\n",
              "    </tr>\n",
              "    <tr>\n",
              "      <th>346</th>\n",
              "      <td>558849</td>\n",
              "      <td>568830</td>\n",
              "    </tr>\n",
              "    <tr>\n",
              "      <th>422</th>\n",
              "      <td>509945</td>\n",
              "      <td>518902</td>\n",
              "    </tr>\n",
              "  </tbody>\n",
              "</table>\n",
              "</div>"
            ],
            "text/plain": [
              "     Telencephalon L Volume  Telencephalon R Volume\n",
              "id                                                 \n",
              "127                  531111                  543404\n",
              "142                  545603                  552216\n",
              "239                  483107                  490805\n",
              "346                  558849                  568830\n",
              "422                  509945                  518902"
            ]
          },
          "metadata": {
            "tags": []
          },
          "execution_count": 29
        }
      ]
    },
    {
      "cell_type": "code",
      "metadata": {
        "id": "DtFF4yHdd1ES",
        "colab_type": "code",
        "colab": {
          "base_uri": "https://localhost:8080/",
          "height": 302
        },
        "outputId": "f2b6c81e-c20b-42a9-b58a-0e8852814ff6"
      },
      "source": [
        "## Plot the data\n",
        "sns.scatterplot('Telencephalon R Volume', 'Telencephalon L Volume', data = tele_V_df)"
      ],
      "execution_count": 30,
      "outputs": [
        {
          "output_type": "execute_result",
          "data": {
            "text/plain": [
              "<matplotlib.axes._subplots.AxesSubplot at 0x7f4851ada198>"
            ]
          },
          "metadata": {
            "tags": []
          },
          "execution_count": 30
        },
        {
          "output_type": "display_data",
          "data": {
            "image/png": "[encoded data removed]",
            "text/plain": [
              "<Figure size 432x288 with 1 Axes>"
            ]
          },
          "metadata": {
            "tags": []
          }
        }
      ]
    },
    {
      "cell_type": "markdown",
      "metadata": {
        "id": "8mj7LCZp8hKi",
        "colab_type": "text"
      },
      "source": [
        "2. Create a vector of the left telencelphalon **(type 1 level 1) volume** values and the right. Demean each. Fit a regression through the origin model with the left telecephalon as the outcome and the right as the predictor. Also do the same with the left as the predictor and the right as the outcome. Plot the fitted lines on your scatterplot."
      ]
    },
    {
      "cell_type": "code",
      "metadata": {
        "id": "cBmGbJet8fjB",
        "colab_type": "code",
        "colab": {
          "base_uri": "https://localhost:8080/",
          "height": 337
        },
        "outputId": "e7198de7-6faf-4cff-f0c7-6a67243816cb"
      },
      "source": [
        "## Vectorize\n",
        "v_tele_L = tele_V_df['Telencephalon L Volume'].to_numpy()\n",
        "v_tele_R = tele_V_df['Telencephalon R Volume'].to_numpy()\n",
        "## Demean\n",
        "Lmean = np.mean(v_tele_L)\n",
        "Rmean = np.mean(v_tele_R)\n",
        "demean_tele_L = np.array([i-Lmean for i in v_tele_L])\n",
        "demean_tele_R = np.array([j-Rmean for j in v_tele_R])\n",
        "## Scatterplot\n",
        "sns.scatterplot(demean_tele_R, demean_tele_L)\n",
        "### Linear Regression fit-Right as predictor ###\n",
        "x1 = demean_tele_R\n",
        "y1 = demean_tele_L\n",
        "trainFraction = 0.75\n",
        "\n",
        "## Hold out data\n",
        "sample = np.random.uniform(size = 20) < trainFraction\n",
        "x1train = x1[ sample]\n",
        "y1train = y1[ sample]\n",
        "x1test =  x1[~sample]\n",
        "y1test =  y1[~sample]\n",
        "\n",
        "## get the slope on the training data\n",
        "beta1_1 = st.pearsonr(x1train, y1train)[0] * np.std(y1train) / np.std(x1train)\n",
        "beta0_1 = np.mean(y1train) - np.mean(x1train) * beta1_1\n",
        "print([beta0_1, beta1_1])\n",
        "\n",
        "sns.scatterplot(x1train, y1train)\n",
        "\n",
        "## add a line\n",
        "sns.lineplot(x1train, beta0_1 + beta1_1 * x1train)\n",
        "\n",
        "print(st.linregress(x = x1train, y = y1train))\n",
        "sns.regplot(x1train, y1train)\n",
        "plt.xlabel('Demean Right Telencephalon Volume')\n",
        "plt.ylabel('Demean Left Telencephalon Volume')"
      ],
      "execution_count": 94,
      "outputs": [
        {
          "output_type": "stream",
          "text": [
            "[-1133.0767547559212, 0.9479275429561125]\n",
            "LinregressResult(slope=0.9479275429561126, intercept=-1133.0767547559221, rvalue=0.9973190677367187, pvalue=1.0857710389227179e-12, stderr=0.021994174406685177)\n"
          ],
          "name": "stdout"
        },
        {
          "output_type": "execute_result",
          "data": {
            "text/plain": [
              "Text(0, 0.5, 'Demean Left Telencephalon Volume')"
            ]
          },
          "metadata": {
            "tags": []
          },
          "execution_count": 94
        },
        {
          "output_type": "display_data",
          "data": {
            "image/png": "[encoded data removed]",
            "text/plain": [
              "<Figure size 432x288 with 1 Axes>"
            ]
          },
          "metadata": {
            "tags": []
          }
        }
      ]
    },
    {
      "cell_type": "code",
      "metadata": {
        "id": "GCLLbhxclDE0",
        "colab_type": "code",
        "colab": {
          "base_uri": "https://localhost:8080/",
          "height": 347
        },
        "outputId": "ac1a5532-49c6-4a34-d992-e758de8b338d"
      },
      "source": [
        "y1hat_test = beta0_1 + beta1_1 * x1test\n",
        "y1hat_train = beta0_1 + beta1_1 * x1train\n",
        "\n",
        "## claculate the MSE in the training and test sets\n",
        "print([ np.mean( (y1train - y1hat_train) ** 2), \n",
        "        np.mean( (y1test -  y1hat_test) ** 2 ) ])\n",
        "\n",
        "\n",
        "sns.scatterplot(y1hat_test, y1test)\n",
        "plt.xlabel('Predicted left telencephalon volume from x1test values')\n",
        "plt.ylabel('Actual left telencephalon volume from y1test')"
      ],
      "execution_count": 97,
      "outputs": [
        {
          "output_type": "stream",
          "text": [
            "[14182103.508092145, 18730513.78913381]\n"
          ],
          "name": "stdout"
        },
        {
          "output_type": "execute_result",
          "data": {
            "text/plain": [
              "Text(0, 0.5, 'Actual left telencephalon volume from y1test')"
            ]
          },
          "metadata": {
            "tags": []
          },
          "execution_count": 97
        },
        {
          "output_type": "display_data",
          "data": {
            "image/png": "[encoded data removed]",
            "text/plain": [
              "<Figure size 432x288 with 1 Axes>"
            ]
          },
          "metadata": {
            "tags": []
          }
        }
      ]
    },
    {
      "cell_type": "code",
      "metadata": {
        "id": "L8XVxEoDDmwT",
        "colab_type": "code",
        "colab": {
          "base_uri": "https://localhost:8080/",
          "height": 342
        },
        "outputId": "2e9fabb4-dfb9-4460-9ff6-ba339b830d60"
      },
      "source": [
        "### Linear Regression fit-Left as predictor ###\n",
        "x2 = demean_tele_L\n",
        "y2 = demean_tele_R\n",
        "trainFraction = 0.75\n",
        "\n",
        "## Hold out data\n",
        "sample = np.random.uniform(size = 20) < trainFraction\n",
        "x2train = x2[ sample]\n",
        "y2train = y2[ sample]\n",
        "x2test =  x2[~sample]\n",
        "y2test =  y2[~sample]\n",
        "\n",
        "## get the slope on the training data\n",
        "beta1_2 = st.pearsonr(x2train, y2train)[0] * np.std(y2train) / np.std(x2train)\n",
        "beta0_2 = np.mean(y2train) - np.mean(x2train) * beta1_2\n",
        "print([beta0_2, beta1_2])\n",
        "\n",
        "sns.scatterplot(x2train, y2train)\n",
        "\n",
        "## add a line\n",
        "sns.lineplot(x2train, beta0_2 + beta1_2 * x2train)\n",
        "\n",
        "print(st.linregress(x = x2train, y = y2train))\n",
        "sns.regplot(x2train, y2train)\n",
        "plt.xlabel('Demean Left Telencephalon Volume')\n",
        "plt.ylabel('Demean Right Telencephalon Volume')"
      ],
      "execution_count": 99,
      "outputs": [
        {
          "output_type": "stream",
          "text": [
            "[-4.68781387720901, 1.0952289136771778]\n",
            "LinregressResult(slope=1.0952289136771776, intercept=-4.6878138772081, rvalue=0.9955695398070386, pvalue=8.880222420684351e-16, stderr=0.02764567095556089)\n"
          ],
          "name": "stdout"
        },
        {
          "output_type": "execute_result",
          "data": {
            "text/plain": [
              "Text(0, 0.5, 'Demean Right Telencephalon Volume')"
            ]
          },
          "metadata": {
            "tags": []
          },
          "execution_count": 99
        },
        {
          "output_type": "display_data",
          "data": {
            "image/png": "[encoded data removed]",
            "text/plain": [
              "<Figure size 432x288 with 1 Axes>"
            ]
          },
          "metadata": {
            "tags": []
          }
        }
      ]
    },
    {
      "cell_type": "code",
      "metadata": {
        "id": "-UitNKLol3V4",
        "colab_type": "code",
        "colab": {
          "base_uri": "https://localhost:8080/",
          "height": 352
        },
        "outputId": "07c71a1c-fbdc-4666-97fc-3fb57c45418f"
      },
      "source": [
        "y2hat_test = beta0_2 + beta1_2 * x2test\n",
        "y2hat_train = beta0_2 + beta1_2 * x2train\n",
        "\n",
        "## claculate the MSE in the training and test sets\n",
        "print([ np.mean( (y2train - y2hat_train) ** 2), \n",
        "        np.mean( (y2test -  y2hat_test) ** 2 ) ])\n",
        "\n",
        "\n",
        "sns.scatterplot(y2hat_test, y2test)\n",
        "plt.xlabel('Predicted right telencephalon volume from x2test values')\n",
        "plt.ylabel('Actual right telencephalon volume from y2test')"
      ],
      "execution_count": 101,
      "outputs": [
        {
          "output_type": "stream",
          "text": [
            "[11623657.666065697, 58499566.36655628]\n"
          ],
          "name": "stdout"
        },
        {
          "output_type": "execute_result",
          "data": {
            "text/plain": [
              "Text(0, 0.5, 'Actual right telencephalon volume from y2test')"
            ]
          },
          "metadata": {
            "tags": []
          },
          "execution_count": 101
        },
        {
          "output_type": "display_data",
          "data": {
            "image/png": "[encoded data removed]",
            "text/plain": [
              "<Figure size 432x288 with 1 Axes>"
            ]
          },
          "metadata": {
            "tags": []
          }
        }
      ]
    },
    {
      "cell_type": "markdown",
      "metadata": {
        "id": "iXlWd8DGEKem",
        "colab_type": "text"
      },
      "source": [
        "3. Consider a regression through the origin model $Y=BX$. What would be the impact on the estimate of $B$ if we replaced $X$ by $cX$ where $c$ is a positive constant?"
      ]
    },
    {
      "cell_type": "markdown",
      "metadata": {
        "id": "6B4_d8zoSeky",
        "colab_type": "text"
      },
      "source": [
        "**Answer** $\\hat{B'} = \\hat{B} /c$"
      ]
    },
    {
      "cell_type": "code",
      "metadata": {
        "id": "34tshlQvPNLi",
        "colab_type": "code",
        "colab": {
          "base_uri": "https://localhost:8080/",
          "height": 447
        },
        "outputId": "c9a5d9c9-57cf-4c8b-e8cf-2e49de4aaeea"
      },
      "source": [
        "### Linear Regression through the origin fit-Right as predictor ###\n",
        "x3 = demean_tele_R\n",
        "## Constant c = 3\n",
        "x3_3 = demean_tele_R*3\n",
        "y3 = demean_tele_L\n",
        "\n",
        "x3 = x3[:,np.newaxis]\n",
        "x3_3 = x3_3[:,np.newaxis]\n",
        "B, _, _, _ = np.linalg.lstsq(x3, y3)\n",
        "B_3, _, _, _ = np.linalg.lstsq(x3_3, y3)\n",
        "print(\"Original intercept estimator is\", B)\n",
        "print(\"After X transformation, the incerpect estimator becomes\", B_3)\n",
        "print(\"The intercept estimator after transformation is the\", B_3/B, \"of the original intercept estimator\")\n",
        "## Original fit shown in green\n",
        "plt.plot(x3, y3, 'bo')\n",
        "plt.plot(x3, B*x3, 'g-')\n",
        "## Transformed fit shown in yellow\n",
        "plt.plot(x3_3, y3, 'ro')\n",
        "plt.plot(x3_3, B_3*x3_3, 'y-')\n",
        "plt.show()"
      ],
      "execution_count": 58,
      "outputs": [
        {
          "output_type": "stream",
          "text": [
            "/usr/local/lib/python3.6/dist-packages/ipykernel_launcher.py:9: FutureWarning: `rcond` parameter will change to the default of machine precision times ``max(M, N)`` where M and N are the input matrix dimensions.\n",
            "To use the future default and silence this warning we advise to pass `rcond=None`, to keep using the old, explicitly pass `rcond=-1`.\n",
            "  if __name__ == '__main__':\n",
            "/usr/local/lib/python3.6/dist-packages/ipykernel_launcher.py:10: FutureWarning: `rcond` parameter will change to the default of machine precision times ``max(M, N)`` where M and N are the input matrix dimensions.\n",
            "To use the future default and silence this warning we advise to pass `rcond=None`, to keep using the old, explicitly pass `rcond=-1`.\n",
            "  # Remove the CWD from sys.path while we load stuff.\n"
          ],
          "name": "stderr"
        },
        {
          "output_type": "stream",
          "text": [
            "Original intercept estimator is [0.95005521]\n",
            "After X transformation, the incerpect estimator becomes [0.31668507]\n",
            "The intercept estimator after transformation is the [0.33333333] of the original intercept estimator\n"
          ],
          "name": "stdout"
        },
        {
          "output_type": "display_data",
          "data": {
            "image/png": "[encoded data removed]",
            "text/plain": [
              "<Figure size 432x288 with 1 Axes>"
            ]
          },
          "metadata": {
            "tags": []
          }
        }
      ]
    },
    {
      "cell_type": "markdown",
      "metadata": {
        "id": "X07q50qbTXNx",
        "colab_type": "text"
      },
      "source": [
        "4. Let $X_i$ be a group indicator so that \n",
        "$$\n",
        "x_i = I(i \\in G_1)\n",
        "$$\n",
        "I.e. takes the value $1$ when $i$ is in group 1 and 0 if $i$ is in group 0. Consider optimizing \n",
        "$$\n",
        "\\sum_{i=1}^n (Y_i - \\beta_0 - \\beta_1 X_i)^2.\n",
        "$$\n",
        "If $\\hat Y = \\hat \\beta_0 + \\hat \\beta_1 X$ argue that $\\hat Y$ is the group mean for group 1 if $X=1$ and the group mean for group 0 if $X=0$. \n",
        "\n",
        "**Hint**\n",
        "Consider a $y$ vector and an $x$ vector that is a colleciton of $1$s and $0$s (corresponding to group 1 and group 0, respectively).\n",
        "\n",
        "Let $n_1$, $n_0$  be the number in group 1, 0 and $n=n_1 + n_0$.  Let $p_1$ be the fraction of observations in group 1, i.e. $n_1 / n$ and $p_0 = n_0 / n$ be the fraction of observations in group 0. Let $\\bar y_1$ and $\\bar y_0$ be the means of $y$ in each group and $\\bar y$ be the overall mean of the $y$. \n",
        "\n",
        "The following are pretty easy to show:\n",
        "* $\\bar x = p_1$\n",
        "* $\\bar y = p_1 \\bar y_1 + p_0 \\bar y_0$\n",
        "* $\\sum_{i=1}^n (x_i - p_1)^2 = n_1 p_0^2 + n_0 p_1 ^2 = n p_1 p_0 $\n",
        "\n",
        "We want to show that $\\hat \\beta_0 = \\bar y_0$ and $\\hat \\beta_0 + \\hat \\beta_1 = \\bar y_1$.\n",
        "However, we know that $\\hat \\beta_0 = \\bar y - \\hat \\beta_1 \\bar x $. So, it must be the case that $\\bar y_0 = \\bar y - \\hat \\beta_1 \\bar x$. Plugging in our existing results, we get that\n",
        "$$\n",
        "\\hat \\beta_1 = \\bar y_1 - \\bar y_0.\n",
        "$$\n",
        "It's easy to then check that if this is $\\hat \\beta_1$ then the problem is solved.  So, if we can show that, we're done.\n",
        "\n",
        "Let $G_1$ and $G_0$ be the indices for groups 1 and 0. Consider:\n",
        "$$\n",
        "\\begin{align}\n",
        "\\hat \\beta_1 & = \\frac{\\sum_{i=1}^n (y_i - \\bar y) (x_i - p_1)}{\\sum_{i=1}^n (x_i - p_1)^2}\\\\\n",
        "& = \\frac{\\sum_{i\\in G_1}^n (y_i - \\bar y) (x_i - p_1) + \\sum_{i\\in G_0}^n (y_i - \\bar y) (x_i - p_1)}{n p_1 p_0} \\\\\n",
        "& = \\frac{(1 - p_1)\\sum_{i\\in G_1}^n (y_i - \\bar y)  +  (0 - p_1)\\sum_{i\\in G_0}^n (y_i - \\bar y)}{n p_1 p_0} \\\\\n",
        "& = \\frac{n_1(1 - p_1)(\\bar y_1 - \\bar y)  +  n_0(0 - p_1)(\\bar y_0 - \\bar y)}{n p_1 p_0} \\\\\n",
        "& = \\frac{n_1p_0(\\bar y_1 - \\bar y)-n_0p_1(\\bar y_0 - \\bar y)}{n p_1 p_0} \\\\\n",
        "& = \\frac{n_1 \\bar y_1 p_0 - n_1\\bar y p_0 - n_0 \\bar y_0 p_1 + n_0 \\bar y p_1}{n p_1 p_0} \\\\\n",
        "& = \\frac{n_1 \\bar y_1 p_0 - n_1\\bar y p_0 - n_0 \\bar y_0 p_1 + n_0 \\bar y p_1}{n p_1 p_0} \\\\\n",
        "& = \\bar y_1 - \\bar y - \\bar y_0 + \\bar y \\\\\n",
        "& = \\bar y_1 - \\bar y_0 \n",
        "\\end{align}\n",
        "$$\n",
        "\n",
        "Then we could show that \n",
        "$$\n",
        "\\begin{align}\n",
        "\\hat \\beta_0 & = \\bar y - \\hat \\beta_1 \\bar x\\\\\n",
        "& = \\bar y -(\\bar y_1 -\\bar y_0)\\bar x\\\\\n",
        "& = p_1\\bar y_1+p_0\\bar y_0-p_1\\bar y_1+p_1\\bar y_0\\\\\n",
        "& = \\bar y_0(p_1+p_0)\\\\\n",
        "& = \\bar y_0\\\\\n",
        "\\end{align}\n",
        "$$\n",
        "Thus\n",
        "$$\n",
        "\\begin{align}\n",
        "\\hat \\beta_0 +\\hat \\beta_1=\\bar y_1\\\\\n",
        "\\end{align}\n",
        "$$\n"
      ]
    },
    {
      "cell_type": "markdown",
      "metadata": {
        "id": "eXBiEhbSV_OM",
        "colab_type": "text"
      },
      "source": [
        "5. Write a python function that takes an X and Y vector and returns an estimated $\\beta_0$ and $\\beta_1$ from linear regression using only basic functions such as mean, sd and correlation."
      ]
    },
    {
      "cell_type": "code",
      "metadata": {
        "id": "TCFDtXgHWnK6",
        "colab_type": "code",
        "colab": {}
      },
      "source": [
        "## Obtain X and Y values\n",
        "X = data['X column'].values\n",
        "Y = data['Y column'].values\n",
        "\n",
        "## Mean of X and Y\n",
        "X_mean = np.mean(X)\n",
        "Y_mean = np.mean(Y)\n",
        " \n",
        "## Total number of values\n",
        "n = len(X)\n",
        "## Calculate covariance between X and Y\n",
        "def covariance(X, X_mean, Y, Y_mean):\n",
        "\tcovar = 0.0\n",
        "\tfor i in range(n):\n",
        "\t\tcovar += (X[i] - X_mean) * (Y[i] - Y_mean)\n",
        "\treturn covar\n",
        "\n",
        "## Calculate the variance of X\n",
        "def variance(values, mean):\n",
        "\treturn sum([(x-mean)**2 for x in values]) \n",
        " \n",
        "## Using the formula to calculate beta0 and beta1 estimators\n",
        "b1 = covariance(X, X_mean, Y, Y_mean) / variance(X, X_mean)\n",
        "b0 = Y_mean - b1 * X_mean\n",
        "print(b1, b0)"
      ],
      "execution_count": null,
      "outputs": []
    },
    {
      "cell_type": "markdown",
      "metadata": {
        "id": "TXa1W4ATY9GL",
        "colab_type": "text"
      },
      "source": [
        "6. Consider the Kirby 21 data. Plot a scatter plot of the left diencephalon (type 1 level 1) and the right. Find the best line fit for predicting the right using the left. Plot the line on the scatterplot. Find the best fit line for predicting the left using the right as a predictor. Plot this on the same plot."
      ]
    },
    {
      "cell_type": "code",
      "metadata": {
        "id": "QNiWxR58Y-lU",
        "colab_type": "code",
        "colab": {
          "base_uri": "https://localhost:8080/",
          "height": 227
        },
        "outputId": "074a4a44-9bcb-4122-92f6-fbdd89f0d1e6"
      },
      "source": [
        "dien_L_df = t1l1.loc[(t1l1.roi == \"Diencephalon_L\")]\n",
        "dien_R_df = t1l1.loc[(t1l1.roi == \"Diencephalon_R\")]\n",
        "dien_V_df = pd.DataFrame({'Diencephalon L Volume': tele_L_df.volume,\n",
        "                   'Diencephalon R Volume': tele_R_df.volume,})\n",
        "dien_V_df.head()"
      ],
      "execution_count": 60,
      "outputs": [
        {
          "output_type": "execute_result",
          "data": {
            "text/html": [
              "<div>\n",
              "<style scoped>\n",
              "    .dataframe tbody tr th:only-of-type {\n",
              "        vertical-align: middle;\n",
              "    }\n",
              "\n",
              "    .dataframe tbody tr th {\n",
              "        vertical-align: top;\n",
              "    }\n",
              "\n",
              "    .dataframe thead th {\n",
              "        text-align: right;\n",
              "    }\n",
              "</style>\n",
              "<table border=\"1\" class=\"dataframe\">\n",
              "  <thead>\n",
              "    <tr style=\"text-align: right;\">\n",
              "      <th></th>\n",
              "      <th>Diencephalon L Volume</th>\n",
              "      <th>Diencephalon R Volume</th>\n",
              "    </tr>\n",
              "    <tr>\n",
              "      <th>id</th>\n",
              "      <th></th>\n",
              "      <th></th>\n",
              "    </tr>\n",
              "  </thead>\n",
              "  <tbody>\n",
              "    <tr>\n",
              "      <th>127</th>\n",
              "      <td>531111</td>\n",
              "      <td>543404</td>\n",
              "    </tr>\n",
              "    <tr>\n",
              "      <th>142</th>\n",
              "      <td>545603</td>\n",
              "      <td>552216</td>\n",
              "    </tr>\n",
              "    <tr>\n",
              "      <th>239</th>\n",
              "      <td>483107</td>\n",
              "      <td>490805</td>\n",
              "    </tr>\n",
              "    <tr>\n",
              "      <th>346</th>\n",
              "      <td>558849</td>\n",
              "      <td>568830</td>\n",
              "    </tr>\n",
              "    <tr>\n",
              "      <th>422</th>\n",
              "      <td>509945</td>\n",
              "      <td>518902</td>\n",
              "    </tr>\n",
              "  </tbody>\n",
              "</table>\n",
              "</div>"
            ],
            "text/plain": [
              "     Diencephalon L Volume  Diencephalon R Volume\n",
              "id                                               \n",
              "127                 531111                 543404\n",
              "142                 545603                 552216\n",
              "239                 483107                 490805\n",
              "346                 558849                 568830\n",
              "422                 509945                 518902"
            ]
          },
          "metadata": {
            "tags": []
          },
          "execution_count": 60
        }
      ]
    },
    {
      "cell_type": "code",
      "metadata": {
        "id": "OZHUhWROZg2h",
        "colab_type": "code",
        "colab": {
          "base_uri": "https://localhost:8080/",
          "height": 376
        },
        "outputId": "708ad4eb-9ef3-4d73-e19f-ac76cb1d23d6"
      },
      "source": [
        "## Vectorize\n",
        "v_dien_L = dien_V_df['Diencephalon L Volume'].to_numpy()\n",
        "v_dien_R = dien_V_df['Diencephalon R Volume'].to_numpy()\n",
        "\n",
        "## Scatterplot\n",
        "sns.scatterplot(v_dien_R, v_dien_L)\n",
        "\n",
        "### Linear Regression fit-Right as predictor ###\n",
        "x1 = v_dien_R\n",
        "y1 = v_dien_L\n",
        "\n",
        "### Linear Regression fit-Right as predictor ###\n",
        "x2 = v_dien_L\n",
        "y2 = v_dien_R\n",
        "trainFraction = 0.75\n",
        "\n",
        "## Hold out data\n",
        "sample = np.random.uniform(size = 20) < trainFraction\n",
        "x1train = x1[ sample]\n",
        "y1train = y1[ sample]\n",
        "x1test =  x1[~sample]\n",
        "y1test =  y1[~sample]\n",
        "\n",
        "x2train = x2[ sample]\n",
        "y2train = y2[ sample]\n",
        "x2test =  x2[~sample]\n",
        "y2test =  y2[~sample]\n",
        "\n",
        "## get the slope on the training data\n",
        "beta1_1 = st.pearsonr(x1train, y1train)[0] * np.std(y1train) / np.std(x1train)\n",
        "beta0_1 = np.mean(y1train) - np.mean(x1train) * beta1_1\n",
        "print([beta0_1, beta1_1])\n",
        "\n",
        "beta1_2 = st.pearsonr(x2train, y2train)[0] * np.std(y2train) / np.std(x2train)\n",
        "beta0_2 = np.mean(y2train) - np.mean(x2train) * beta1_2\n",
        "print([beta0_2, beta1_2])\n",
        "\n",
        "sns.scatterplot(x1train, y1train)\n",
        "sns.scatterplot(x2train, y2train)\n",
        "\n",
        "## add a line \n",
        "sns.lineplot(x1train, beta0_1 + beta1_1 * x1train)\n",
        "sns.lineplot(x2train, beta0_2 + beta1_2 * x2train)\n",
        "\n",
        "print(st.linregress(x = x1train, y = y1train))\n",
        "print(st.linregress(x = x2train, y = y2train))\n",
        "\n",
        "a = \"Right Diencephalon Volume vs. Left Diencephalon Volume\", \"Left Diencephalon Volume vs. Right Diencephalon Volume\"\n",
        "sns.regplot(x1train, y1train, label=a[0])\n",
        "sns.regplot(x2train, y2train, label=a[1])\n",
        "plt.legend()"
      ],
      "execution_count": 92,
      "outputs": [
        {
          "output_type": "stream",
          "text": [
            "[9168.672009651258, 0.967038507972616]\n",
            "[-5612.691449113248, 1.0262108799550687]\n",
            "LinregressResult(slope=0.9670385079726158, intercept=9168.672009651375, rvalue=0.9961854436885809, pvalue=5.270328395246386e-13, stderr=0.025540517435989632)\n",
            "LinregressResult(slope=1.0262108799550687, intercept=-5612.691449113248, rvalue=0.9961854436885809, pvalue=5.270328395246386e-13, stderr=0.02710332283193515)\n"
          ],
          "name": "stdout"
        },
        {
          "output_type": "execute_result",
          "data": {
            "text/plain": [
              "<matplotlib.legend.Legend at 0x7f48509a69e8>"
            ]
          },
          "metadata": {
            "tags": []
          },
          "execution_count": 92
        },
        {
          "output_type": "display_data",
          "data": {
            "image/png": "[encoded data removed]",
            "text/plain": [
              "<Figure size 432x288 with 1 Axes>"
            ]
          },
          "metadata": {
            "tags": []
          }
        }
      ]
    },
    {
      "cell_type": "markdown",
      "metadata": {
        "id": "b9RjGr51ieK0",
        "colab_type": "text"
      },
      "source": [
        "7. Argue that if you take the vectors $Y$ and $X$ and divide them by their standard deviations (respectively), the slope for either regressing $Y$ on $X$ or $X$ on $Y$ is simply the correlation. \n"
      ]
    },
    {
      "cell_type": "markdown",
      "metadata": {
        "id": "Pl7x4x5gp029",
        "colab_type": "text"
      },
      "source": [
        "**Proof**\n",
        "\n",
        "We have slope $\\beta_1$ estimator $\\hat \\beta_1$ for **regressing $Y$ on $X$**\n",
        "\n",
        "$$\n",
        "\\begin{align}\n",
        "\\hat \\beta_1 & = \\frac{\\sum_{i=1}^n (x_i - \\bar x) (y_i - \\bar y)}{\\sum_{i=1}^n (x_i - \\bar x)^2}\\\\\n",
        "\\end{align}\n",
        "$$\n",
        "\n",
        "and correlation $r(X,Y)$ between $X$ and $Y$ \n",
        "\n",
        "$$\n",
        "\\begin{align}\n",
        "r(X,Y) & = \\frac{\\sum_{i=1}^n (x_i - \\bar x) (y_i - \\bar y)}{\\sqrt{\\sum_{i=1}^n (x_i - \\bar x)^2}\\sqrt{\\sum_{i=1}^n (y_i - \\bar y)^2}}=r\\\\\n",
        "\\end{align}\n",
        "$$\n",
        "\n",
        "and standard deviations $\\sigma_x$ and $\\sigma_y$ for $X$ and $Y$ respectively\n",
        "\n",
        "$$\n",
        "\\begin{align}\n",
        "\\sigma_x & = \\sqrt\\frac{\\sum_{i=1}^n (x_i - \\bar x)^2}{n}\\\\\n",
        "\\end{align}\n",
        "$$\n",
        "\n",
        "$$\n",
        "\\begin{align}\n",
        "\\sigma_y & = \\sqrt\\frac{\\sum_{i=1}^n (y_i - \\bar y)^2}{n}\\\\\n",
        "\\end{align}\n",
        "$$\n",
        "\n",
        "We can therefore show that\n",
        "\n",
        "$$\n",
        "\\begin{align}\n",
        "\\hat \\beta_1  & = r\\frac{\\sigma_y}{\\sigma_x}\\\\\n",
        "\\end{align}\n",
        "$$\n",
        "\n",
        "If we take the vectors  𝑌  and  𝑋  and divide them by their standard deviations respectively\n",
        "\n",
        "$$\n",
        "\\begin{align}\n",
        "r'(X,Y) & = \\frac{\\sum_{i=1}^n (x_i/\\sigma_x - \\bar x/\\sigma_x) (y_i/\\sigma_y - \\bar y/\\sigma_y)}{\\sqrt{\\sum_{i=1}^n (x_i/\\sigma_x - \\bar x/\\sigma_x)^2}\\sqrt{\\sum_{i=1}^n (y_i/\\sigma_y - \\bar y/\\sigma_y)^2}}\\\\\n",
        "& = r(X,Y)\n",
        "\\end{align}\n",
        "$$\n",
        "\n",
        "and standard deviations $\\sigma_x'$ and $\\sigma_y'$ for $X/\\sigma_x$ and $Y/\\sigma_y$ respectively\n",
        "\n",
        "$$\n",
        "\\begin{align}\n",
        "\\sigma_x' & = \\sqrt\\frac{\\sum_{i=1}^n (x_i/\\sigma_x - \\bar x/\\sigma_x)^2}{n}\\\\\n",
        "& = \\frac{1}{\\sigma_x}\\sqrt\\frac{\\sum_{i=1}^n (x_i - \\bar x)^2}{n}\\\\\n",
        "& = 1\n",
        "\\end{align}\n",
        "$$\n",
        "similarly, we could show that\n",
        "$$\n",
        "\\begin{align}\n",
        "\\sigma_y' & = \\sqrt\\frac{\\sum_{i=1}^n (y_i/\\sigma_y - \\bar y/\\sigma_y)^2}{n}\\\\\n",
        "& = 1\n",
        "\\end{align}\n",
        "$$\n",
        "\n",
        "$$\n",
        "\\begin{align}\n",
        "\\hat \\beta_1'  & = r'\\frac{\\sigma_y'}{\\sigma_x'}\\\\\n",
        "& = r\n",
        "\\end{align}\n",
        "$$\n",
        "\n",
        "while **regressing $X$ on $Y$**\n",
        "We have slope estimator $\\alpha_1$ estimator $\\hat \\alpha_1$instead\n",
        "$$\n",
        "\\begin{align}\n",
        "\\hat \\alpha_1 & = \\frac{\\sum_{i=1}^n (x_i - \\bar x) (y_i - \\bar y)}{\\sum_{i=1}^n (y_i - \\bar y)^2}\\\\\n",
        "\\end{align}\n",
        "$$\n",
        "\n",
        "and correlation $r(Y,X)$ between $Y$ and $X$ \n",
        "\n",
        "$$\n",
        "\\begin{align}\n",
        "r(X,Y) & = r(X,Y)=r\\\\\n",
        "\\end{align}\n",
        "$$\n",
        "\n",
        "similarly,\n",
        "$$\n",
        "\\begin{align}\n",
        "\\hat \\alpha_1  & = r\\frac{\\sigma_x'}{\\sigma_y'}\\\\\n",
        "\\end{align}\n",
        "$$\n",
        "$$\n",
        "\\begin{align}\n",
        "\\hat \\alpha_1'  & = r'\\frac{\\sigma_x}{\\sigma_y}\\\\\n",
        "& = r\n",
        "\\end{align}\n",
        "$$\n",
        "\n",
        "**Thus the slope for either regressing $Y$ on $X$ or $X$ on $Y$ is simply the correlation $r$ when take the vectors $Y$ and $X$ and divide them by their standard deviations respectively.**"
      ]
    }
  ]
}