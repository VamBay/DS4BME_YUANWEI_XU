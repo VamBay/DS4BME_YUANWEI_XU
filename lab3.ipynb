{
  "nbformat": 4,
  "nbformat_minor": 0,
  "metadata": {
    "colab": {
      "name": "lab3.ipynb",
      "provenance": [],
      "collapsed_sections": []
    },
    "kernelspec": {
      "display_name": "Python 3",
      "language": "python",
      "name": "python3"
    },
    "language_info": {
      "codemirror_mode": {
        "name": "ipython",
        "version": 3
      },
      "file_extension": ".py",
      "mimetype": "text/x-python",
      "name": "python",
      "nbconvert_exporter": "python",
      "pygments_lexer": "ipython3",
      "version": "3.7.3"
    }
  },
  "cells": [
    {
      "cell_type": "markdown",
      "metadata": {
        "id": "8LI68a26JudE"
      },
      "source": [
        "# Names (Enter your names below)\n",
        "Student 1 Name and JHED: Yuanwei Xu (yxu105)\n",
        "\n",
        "Student 2 Name and JHED (If applicable):  ..."
      ]
    },
    {
      "cell_type": "markdown",
      "metadata": {
        "id": "Z4gZuDxkoGWT"
      },
      "source": [
        "#Tasks#\n",
        "\n",
        "\n",
        "\n",
        "\n",
        "**(a)** Read the paper (Liu et al., 2019) to familiarize yourself with the problem and the approach to be followed.\n",
        "\n",
        "**(b)** [30 points] Train a generalized linear model (i.e., logistic regression) on the normalized data with lasso penalty ($l_1$) (Friedman et al., 2010). You may use\n",
        "any appropriate libraries (e.g. sklearn.linear model.SGDClassifier with\n",
        "balanced class weights from scikit-learn (Pedregosa et al., 2011)). Plot the\n",
        "ROC curve and display the AUC.\n",
        "\n",
        "**(c)** [30 points] Refine this model by determining an optimal regularization value $\\lambda \\geqslant 0$ which maximizes AUC via cross-validation as described in (Liu et al.,\n",
        "2019). It is suggested that you use a stochastic optimization strategy by splitting your dataset into smaller chunks that you feed to the optimizer. Then display your optimal $\\lambda$.\n",
        "\n",
        "**(d)** [40 points] Evaluate the ROC curve on the testing data using your optimal $\\lambda$ and compute the operating point (the point closest to (0,1)) corresponding to the optimal threshold as defined in (Liu et al., 2019). Plot the obtained ROC curve overlaying the operating point and its associated sensitivity (TPR) and specificity (1 - FPR). Also add the Area Under the Curve (AUC) value to the figure.\n",
        "\n",
        "**(e)** [Bonus 10 points] Using the timestamp data, generate a histogram of Early Warning Time (EWT) values on the test data."
      ]
    },
    {
      "cell_type": "code",
      "metadata": {
        "id": "FObubMDyCtS5"
      },
      "source": [
        "import numpy as np\n",
        "import matplotlib.pyplot as plt\n",
        "import pandas as pd\n",
        "import datetime as date\n",
        "from sklearn.linear_model import SGDClassifier\n",
        "from sklearn.calibration import CalibratedClassifierCV\n",
        "from sklearn.metrics import roc_curve, auc\n",
        "from sklearn.model_selection import KFold\n",
        "\n",
        "# fix random number generator for reproducibility\n",
        "np.random.seed(0)"
      ],
      "execution_count": 1,
      "outputs": []
    },
    {
      "cell_type": "markdown",
      "metadata": {
        "id": "676j1_cYJudJ"
      },
      "source": [
        "# Read Data"
      ]
    },
    {
      "cell_type": "code",
      "metadata": {
        "id": "cG1zPcYBJudJ",
        "outputId": "f12fce48-7811-48c2-d364-c2eb526f4070",
        "colab": {
          "base_uri": "https://localhost:8080/",
          "height": 33
        }
      },
      "source": [
        "#===========================================\n",
        "# Read data.  Change DATAPATH if necessary\n",
        "#===========================================\n",
        "try:\n",
        "    # Executes if running in Google Colab\n",
        "    from google.colab import drive\n",
        "    drive.mount('gdrive/')\n",
        "    DATAPATH = \"gdrive/My Drive/DS4BME/Lab3\" # Change path to location of data if necessary\n",
        "except:\n",
        "    # Executes if running locally (e.g. Anaconda)\n",
        "    DATAPATH = \"./\"\n",
        "\n",
        "# Read training data\n",
        "traindata = pd.read_csv('/'.join((DATAPATH,'glm.training.data.csv')))\n",
        "X = traindata.iloc[:,1:29].values # Rows are patients, columns are clinical indicators\n",
        "y = traindata.iloc[:,-1].values\n",
        "\n",
        "# Read testing data\n",
        "testdata = pd.read_csv('/'.join((DATAPATH,'glm.test.data.csv')))\n",
        "Xtest = testdata.iloc[:,1:29].values\n",
        "ytest = testdata.iloc[:,-1].values"
      ],
      "execution_count": 2,
      "outputs": [
        {
          "output_type": "stream",
          "text": [
            "Mounted at gdrive/\n"
          ],
          "name": "stdout"
        }
      ]
    },
    {
      "cell_type": "code",
      "metadata": {
        "id": "ct-LnnWLo3Bl",
        "outputId": "d28aac7a-e0b3-4949-f3ec-7d115fbcd6fc",
        "colab": {
          "base_uri": "https://localhost:8080/",
          "height": 225
        }
      },
      "source": [
        "testdata.tail()"
      ],
      "execution_count": 3,
      "outputs": [
        {
          "output_type": "execute_result",
          "data": {
            "text/html": [
              "<div>\n",
              "<style scoped>\n",
              "    .dataframe tbody tr th:only-of-type {\n",
              "        vertical-align: middle;\n",
              "    }\n",
              "\n",
              "    .dataframe tbody tr th {\n",
              "        vertical-align: top;\n",
              "    }\n",
              "\n",
              "    .dataframe thead th {\n",
              "        text-align: right;\n",
              "    }\n",
              "</style>\n",
              "<table border=\"1\" class=\"dataframe\">\n",
              "  <thead>\n",
              "    <tr style=\"text-align: right;\">\n",
              "      <th></th>\n",
              "      <th>Unnamed: 0</th>\n",
              "      <th>hr</th>\n",
              "      <th>sbp</th>\n",
              "      <th>dbp</th>\n",
              "      <th>mbp</th>\n",
              "      <th>resp</th>\n",
              "      <th>temp</th>\n",
              "      <th>cvp</th>\n",
              "      <th>pao2</th>\n",
              "      <th>fio2</th>\n",
              "      <th>gcs</th>\n",
              "      <th>bili</th>\n",
              "      <th>platelets</th>\n",
              "      <th>creat</th>\n",
              "      <th>lactate</th>\n",
              "      <th>bun</th>\n",
              "      <th>ph</th>\n",
              "      <th>wbc</th>\n",
              "      <th>paco2</th>\n",
              "      <th>hgb</th>\n",
              "      <th>hct</th>\n",
              "      <th>potassium</th>\n",
              "      <th>urine</th>\n",
              "      <th>resp.sofa</th>\n",
              "      <th>nervous.sofa</th>\n",
              "      <th>cardio.sofa</th>\n",
              "      <th>liver.sofa</th>\n",
              "      <th>coag.sofa</th>\n",
              "      <th>kidney.sofa</th>\n",
              "      <th>patient</th>\n",
              "      <th>y</th>\n",
              "    </tr>\n",
              "  </thead>\n",
              "  <tbody>\n",
              "    <tr>\n",
              "      <th>1302373</th>\n",
              "      <td>1302374</td>\n",
              "      <td>82.0</td>\n",
              "      <td>98.0</td>\n",
              "      <td>84.0</td>\n",
              "      <td>87.0</td>\n",
              "      <td>14.0</td>\n",
              "      <td>37.164892</td>\n",
              "      <td>15.309346</td>\n",
              "      <td>478.0</td>\n",
              "      <td>100.0</td>\n",
              "      <td>15.0</td>\n",
              "      <td>0.7</td>\n",
              "      <td>234.0</td>\n",
              "      <td>1.6</td>\n",
              "      <td>1.0</td>\n",
              "      <td>31.0</td>\n",
              "      <td>7.47</td>\n",
              "      <td>7.9</td>\n",
              "      <td>36.0</td>\n",
              "      <td>9.6</td>\n",
              "      <td>21.0</td>\n",
              "      <td>5.9</td>\n",
              "      <td>0.0</td>\n",
              "      <td>1</td>\n",
              "      <td>0</td>\n",
              "      <td>1.10508</td>\n",
              "      <td>0</td>\n",
              "      <td>0</td>\n",
              "      <td>1</td>\n",
              "      <td>6737</td>\n",
              "      <td>1</td>\n",
              "    </tr>\n",
              "    <tr>\n",
              "      <th>1302374</th>\n",
              "      <td>1302375</td>\n",
              "      <td>82.0</td>\n",
              "      <td>98.0</td>\n",
              "      <td>84.0</td>\n",
              "      <td>87.0</td>\n",
              "      <td>14.0</td>\n",
              "      <td>37.164892</td>\n",
              "      <td>15.309346</td>\n",
              "      <td>208.0</td>\n",
              "      <td>100.0</td>\n",
              "      <td>15.0</td>\n",
              "      <td>0.7</td>\n",
              "      <td>234.0</td>\n",
              "      <td>1.6</td>\n",
              "      <td>3.0</td>\n",
              "      <td>31.0</td>\n",
              "      <td>7.37</td>\n",
              "      <td>7.9</td>\n",
              "      <td>45.0</td>\n",
              "      <td>9.6</td>\n",
              "      <td>23.0</td>\n",
              "      <td>4.6</td>\n",
              "      <td>0.0</td>\n",
              "      <td>2</td>\n",
              "      <td>0</td>\n",
              "      <td>1.10508</td>\n",
              "      <td>0</td>\n",
              "      <td>0</td>\n",
              "      <td>1</td>\n",
              "      <td>6737</td>\n",
              "      <td>1</td>\n",
              "    </tr>\n",
              "    <tr>\n",
              "      <th>1302375</th>\n",
              "      <td>1302376</td>\n",
              "      <td>82.0</td>\n",
              "      <td>98.0</td>\n",
              "      <td>84.0</td>\n",
              "      <td>87.0</td>\n",
              "      <td>14.0</td>\n",
              "      <td>37.164892</td>\n",
              "      <td>15.309346</td>\n",
              "      <td>208.0</td>\n",
              "      <td>100.0</td>\n",
              "      <td>15.0</td>\n",
              "      <td>0.7</td>\n",
              "      <td>178.0</td>\n",
              "      <td>1.6</td>\n",
              "      <td>3.0</td>\n",
              "      <td>31.0</td>\n",
              "      <td>7.37</td>\n",
              "      <td>7.9</td>\n",
              "      <td>45.0</td>\n",
              "      <td>9.6</td>\n",
              "      <td>23.0</td>\n",
              "      <td>4.6</td>\n",
              "      <td>0.0</td>\n",
              "      <td>2</td>\n",
              "      <td>0</td>\n",
              "      <td>1.10508</td>\n",
              "      <td>0</td>\n",
              "      <td>0</td>\n",
              "      <td>1</td>\n",
              "      <td>6737</td>\n",
              "      <td>1</td>\n",
              "    </tr>\n",
              "    <tr>\n",
              "      <th>1302376</th>\n",
              "      <td>1302377</td>\n",
              "      <td>82.0</td>\n",
              "      <td>98.0</td>\n",
              "      <td>84.0</td>\n",
              "      <td>87.0</td>\n",
              "      <td>16.0</td>\n",
              "      <td>37.164892</td>\n",
              "      <td>15.309346</td>\n",
              "      <td>208.0</td>\n",
              "      <td>100.0</td>\n",
              "      <td>15.0</td>\n",
              "      <td>0.7</td>\n",
              "      <td>178.0</td>\n",
              "      <td>1.6</td>\n",
              "      <td>3.0</td>\n",
              "      <td>31.0</td>\n",
              "      <td>7.37</td>\n",
              "      <td>7.9</td>\n",
              "      <td>45.0</td>\n",
              "      <td>9.6</td>\n",
              "      <td>23.0</td>\n",
              "      <td>4.6</td>\n",
              "      <td>0.0</td>\n",
              "      <td>2</td>\n",
              "      <td>0</td>\n",
              "      <td>1.10508</td>\n",
              "      <td>0</td>\n",
              "      <td>0</td>\n",
              "      <td>1</td>\n",
              "      <td>6737</td>\n",
              "      <td>1</td>\n",
              "    </tr>\n",
              "    <tr>\n",
              "      <th>1302377</th>\n",
              "      <td>1302378</td>\n",
              "      <td>82.0</td>\n",
              "      <td>98.0</td>\n",
              "      <td>84.0</td>\n",
              "      <td>87.0</td>\n",
              "      <td>16.0</td>\n",
              "      <td>37.164892</td>\n",
              "      <td>15.309346</td>\n",
              "      <td>208.0</td>\n",
              "      <td>100.0</td>\n",
              "      <td>15.0</td>\n",
              "      <td>0.7</td>\n",
              "      <td>178.0</td>\n",
              "      <td>1.6</td>\n",
              "      <td>3.0</td>\n",
              "      <td>31.0</td>\n",
              "      <td>7.37</td>\n",
              "      <td>7.9</td>\n",
              "      <td>45.0</td>\n",
              "      <td>9.6</td>\n",
              "      <td>23.0</td>\n",
              "      <td>4.6</td>\n",
              "      <td>325.0</td>\n",
              "      <td>2</td>\n",
              "      <td>0</td>\n",
              "      <td>1.10508</td>\n",
              "      <td>0</td>\n",
              "      <td>0</td>\n",
              "      <td>1</td>\n",
              "      <td>6737</td>\n",
              "      <td>1</td>\n",
              "    </tr>\n",
              "  </tbody>\n",
              "</table>\n",
              "</div>"
            ],
            "text/plain": [
              "         Unnamed: 0    hr   sbp   dbp  ...  coag.sofa  kidney.sofa  patient  y\n",
              "1302373     1302374  82.0  98.0  84.0  ...          0            1     6737  1\n",
              "1302374     1302375  82.0  98.0  84.0  ...          0            1     6737  1\n",
              "1302375     1302376  82.0  98.0  84.0  ...          0            1     6737  1\n",
              "1302376     1302377  82.0  98.0  84.0  ...          0            1     6737  1\n",
              "1302377     1302378  82.0  98.0  84.0  ...          0            1     6737  1\n",
              "\n",
              "[5 rows x 31 columns]"
            ]
          },
          "metadata": {
            "tags": []
          },
          "execution_count": 3
        }
      ]
    },
    {
      "cell_type": "code",
      "metadata": {
        "id": "VqbvmycI8vUU",
        "outputId": "d46e3bce-7ef6-49bf-d0f5-9897532c76fc",
        "colab": {
          "base_uri": "https://localhost:8080/",
          "height": 33
        }
      },
      "source": [
        "print(testdata.shape)"
      ],
      "execution_count": 71,
      "outputs": [
        {
          "output_type": "stream",
          "text": [
            "(1302378, 31)\n"
          ],
          "name": "stdout"
        }
      ]
    },
    {
      "cell_type": "markdown",
      "metadata": {
        "id": "JXqO8Qy2JudM"
      },
      "source": [
        "# Train generalized linear model (i.e. logistic regression)"
      ]
    },
    {
      "cell_type": "markdown",
      "metadata": {
        "id": "C1uav4NF7ocf"
      },
      "source": [
        "**(b)** [30 points] Train a generalized linear model (i.e., logistic regression) on the normalized data with lasso penalty ( $𝑙_1$ ) (Friedman et al., 2010). You may use any appropriate libraries (e.g. sklearn.linear model.SGDClassifier with balanced class weights from scikit-learn (Pedregosa et al., 2011)). Plot the ROC curve and display the AUC."
      ]
    },
    {
      "cell_type": "code",
      "metadata": {
        "id": "YdwZg2LzETyQ"
      },
      "source": [
        "# Normalize Training (zero mean, unity standard deviation)\n",
        "X  = X-np.mean(X,axis=0)\n",
        "X  = X/np.std(X,axis=0)\n",
        "\n",
        "# Normalize Testing Data.\n",
        "Xtest  = Xtest - np.mean(Xtest,axis=0)\n",
        "Xtest  = Xtest/np.std(Xtest,axis=0)"
      ],
      "execution_count": 4,
      "outputs": []
    },
    {
      "cell_type": "code",
      "metadata": {
        "id": "rbDi4Javb7HA",
        "outputId": "83fad35c-9c28-4da5-ac26-e5c845b92f24",
        "colab": {
          "base_uri": "https://localhost:8080/",
          "height": 493
        }
      },
      "source": [
        "from sklearn.metrics import classification_report, confusion_matrix\n",
        "# Create the classifier: model\n",
        "model = SGDClassifier(loss=\"log\", penalty=\"l1\", alpha = 0.0001, max_iter=1000, class_weight = \"balanced\")\n",
        "\n",
        "# Fit the classifier to the training data\n",
        "model.fit(X, y)\n",
        "\n",
        "# Predict the labels of the training set: y_pred\n",
        "ypred = model.predict(X)\n",
        "\n",
        "# Compute and print the confusion matrix and classification report\n",
        "print(confusion_matrix(y, ypred))\n",
        "print(classification_report(y, ypred))\n",
        "# Compute predicted probabilities: ypred_prob\n",
        "ypred_prob = model.predict_proba(X)[:, 1]\n",
        "\n",
        "# Generate ROC curve values: fpr, tpr, thresholds\n",
        "fpr, tpr, thresholds = roc_curve(y, ypred_prob)\n",
        "\n",
        "# Plot ROC curve for testing data\n",
        "plt.plot([0, 1], [0, 1], 'k--')\n",
        "plt.plot(fpr, tpr, color = 'purple')\n",
        "plt.xlabel('False Positive Rate')\n",
        "plt.ylabel('True Positive Rate')\n",
        "plt.title('ROC Curve for training data with AUC: {}'.format(auc(fpr,tpr)))"
      ],
      "execution_count": 5,
      "outputs": [
        {
          "output_type": "stream",
          "text": [
            "[[1128302  187398]\n",
            " [  37398  223102]]\n",
            "              precision    recall  f1-score   support\n",
            "\n",
            "           0       0.97      0.86      0.91   1315700\n",
            "           1       0.54      0.86      0.66    260500\n",
            "\n",
            "    accuracy                           0.86   1576200\n",
            "   macro avg       0.76      0.86      0.79   1576200\n",
            "weighted avg       0.90      0.86      0.87   1576200\n",
            "\n"
          ],
          "name": "stdout"
        },
        {
          "output_type": "execute_result",
          "data": {
            "text/plain": [
              "Text(0.5, 1.0, 'ROC Curve for training data with AUC: 0.922617214324509')"
            ]
          },
          "metadata": {
            "tags": []
          },
          "execution_count": 5
        },
        {
          "output_type": "display_data",
          "data": {
            "image/png": "[encoded data removed]",
            "text/plain": [
              "<Figure size 432x288 with 1 Axes>"
            ]
          },
          "metadata": {
            "tags": [],
            "needs_background": "light"
          }
        }
      ]
    },
    {
      "cell_type": "markdown",
      "metadata": {
        "id": "fSgrkyV2JudP"
      },
      "source": [
        "# Refine the model"
      ]
    },
    {
      "cell_type": "markdown",
      "metadata": {
        "id": "BjmOeQnKByc8"
      },
      "source": [
        "**(c)** [30 points] Refine this model by determining an optimal regularization value $\\lambda \\geqslant 0$ which maximizes AUC via cross-validation as described in (Liu et al.,\n",
        "2019). It is suggested that you use a stochastic optimization strategy by splitting your dataset into smaller chunks that you feed to the optimizer. Then display your optimal $\\lambda$."
      ]
    },
    {
      "cell_type": "markdown",
      "metadata": {
        "id": "0lA8WKtGid3c"
      },
      "source": [
        ""
      ]
    },
    {
      "cell_type": "code",
      "metadata": {
        "id": "B3SOU-tR1aue",
        "outputId": "2bb9ffe5-a2e6-44be-cfd3-a7e9ce3a071a",
        "colab": {
          "base_uri": "https://localhost:8080/",
          "height": 511
        }
      },
      "source": [
        "'''\n",
        "for each 10-fold cross-validation we go through alpha = np.logspace(-6, 1, num=10)\n",
        "'''\n",
        "# Define alphas\n",
        "alphas = np.logspace(-6, 1, num=10)\n",
        "\n",
        "# Construct \n",
        "auc_list = np.zeros((len(alphas), len(alphas)))\n",
        "\n",
        "# Kfold : 10 fold splitting\n",
        "kf = KFold(n_splits=10, random_state=1, shuffle=True)\n",
        "\n",
        "index =0\n",
        "for train_index, test_index in kf.split(X):\n",
        "    print(\"TRAIN:\", train_index, \"TEST:\", test_index)\n",
        "    X_train, X_test = X[train_index], X[test_index]\n",
        "    y_train, y_test = y[train_index], y[test_index]\n",
        "\n",
        "    for i in range(len(alphas)):\n",
        "      model = SGDClassifier(loss=\"log\", penalty=\"l1\", alpha = alphas[i] , max_iter=1000, class_weight = \"balanced\")\n",
        "      model.fit(X_train, y_train)\n",
        "      y_train_pred = model.predict_proba(X_train)[:,1]\n",
        "      fpr, tpr, thr =roc_curve(y_train, y_train_pred)\n",
        "      auc_list[index][i] = auc(fpr,tpr)\n",
        "    index += 1\n",
        "print(auc_list)     \n"
      ],
      "execution_count": 6,
      "outputs": [
        {
          "output_type": "stream",
          "text": [
            "TRAIN: [      0       1       2 ... 1576197 1576198 1576199] TEST: [      5      13      21 ... 1576184 1576187 1576192]\n",
            "TRAIN: [      0       1       2 ... 1576197 1576198 1576199] TEST: [      8       9      24 ... 1576181 1576186 1576191]\n",
            "TRAIN: [      1       2       4 ... 1576197 1576198 1576199] TEST: [      0       3      16 ... 1576169 1576188 1576194]\n",
            "TRAIN: [      0       1       2 ... 1576197 1576198 1576199] TEST: [      6       7      12 ... 1576152 1576160 1576190]\n",
            "TRAIN: [      0       1       2 ... 1576196 1576197 1576198] TEST: [     10      17      33 ... 1576189 1576193 1576199]\n",
            "TRAIN: [      0       1       3 ... 1576197 1576198 1576199] TEST: [      2      14      20 ... 1576134 1576136 1576138]\n",
            "TRAIN: [      0       1       2 ... 1576197 1576198 1576199] TEST: [     11      15      28 ... 1576161 1576180 1576185]\n",
            "TRAIN: [      0       2       3 ... 1576197 1576198 1576199] TEST: [      1       4      25 ... 1576167 1576170 1576177]\n",
            "TRAIN: [      0       1       2 ... 1576194 1576197 1576199] TEST: [     22      30      41 ... 1576195 1576196 1576198]\n",
            "TRAIN: [      0       1       2 ... 1576196 1576198 1576199] TEST: [     40      43      72 ... 1576164 1576173 1576197]\n",
            "[[0.90535648 0.91367781 0.93981336 0.93976278 0.93942113 0.93648532\n",
            "  0.87982588 0.5        0.5        0.5       ]\n",
            " [0.92703506 0.92942536 0.94097377 0.93947441 0.93950114 0.93667699\n",
            "  0.90461354 0.5        0.5        0.5       ]\n",
            " [0.8806655  0.8959253  0.92767727 0.93961422 0.93948094 0.93673859\n",
            "  0.9046977  0.5        0.5        0.5       ]\n",
            " [0.92306558 0.89206971 0.92598146 0.93930126 0.93947684 0.93680999\n",
            "  0.90465798 0.5        0.5        0.5       ]\n",
            " [0.92739202 0.87807958 0.93984359 0.93958752 0.9394771  0.93581483\n",
            "  0.90472682 0.5        0.5        0.5       ]\n",
            " [0.9121796  0.93276755 0.93668344 0.93965932 0.93952584 0.93680837\n",
            "  0.89942579 0.5        0.5        0.5       ]\n",
            " [0.91281214 0.90439859 0.93939808 0.93954888 0.93958366 0.93568762\n",
            "  0.90020297 0.5        0.5        0.5       ]\n",
            " [0.90066924 0.93043115 0.85588379 0.93994025 0.9394536  0.93663557\n",
            "  0.90470414 0.5        0.5        0.5       ]\n",
            " [0.92475208 0.92960547 0.93099627 0.939749   0.93938004 0.93675719\n",
            "  0.89923189 0.5        0.5        0.5       ]\n",
            " [0.90260047 0.9290341  0.9395863  0.9402601  0.93959195 0.93664635\n",
            "  0.90468424 0.5        0.5        0.5       ]]\n"
          ],
          "name": "stdout"
        }
      ]
    },
    {
      "cell_type": "code",
      "metadata": {
        "id": "aIvgBrOCsP-S",
        "outputId": "b89910f2-84b1-4bad-b1ab-b958d6ed7fee",
        "colab": {
          "base_uri": "https://localhost:8080/",
          "height": 66
        }
      },
      "source": [
        "print(alphas)"
      ],
      "execution_count": 13,
      "outputs": [
        {
          "output_type": "stream",
          "text": [
            "[1.00000000e-06 5.99484250e-06 3.59381366e-05 2.15443469e-04\n",
            " 1.29154967e-03 7.74263683e-03 4.64158883e-02 2.78255940e-01\n",
            " 1.66810054e+00 1.00000000e+01]\n"
          ],
          "name": "stdout"
        }
      ]
    },
    {
      "cell_type": "code",
      "metadata": {
        "id": "j--t4qpSn45g",
        "outputId": "191f0710-4414-43c6-d5a7-e09b5f451afa",
        "colab": {
          "base_uri": "https://localhost:8080/",
          "height": 33
        }
      },
      "source": [
        "# Identifying optimal lambda \n",
        "opti_auc_array = np.max(auc_list, axis = 1) \n",
        "opti_auc_argarray = np.argmax(auc_list, axis = 1) \n",
        "opti_auc_arg = np.argmax(opti_auc_array)\n",
        "opti_alpha = alphas[opti_auc_arg]\n",
        "print(\"The optimal lambda(alpha) is,\", opti_alpha)\n",
        "\n"
      ],
      "execution_count": 21,
      "outputs": [
        {
          "output_type": "stream",
          "text": [
            "The optimal lambda(alpha) is, 5.994842503189409e-06\n"
          ],
          "name": "stdout"
        }
      ]
    },
    {
      "cell_type": "markdown",
      "metadata": {
        "id": "x2cu4kSIJudT"
      },
      "source": [
        "# ROC curve on Testing data"
      ]
    },
    {
      "cell_type": "markdown",
      "metadata": {
        "id": "ThateS2cmv1W"
      },
      "source": [
        "**(d)** [40 points] Evaluate the ROC curve on the **testing data** using your optimal  𝜆  and compute the operating point (the point closest to (0,1)) corresponding to the optimal threshold as defined in (Liu et al., 2019). Plot the obtained ROC curve overlaying the operating point and its associated sensitivity (TPR) and specificity (1 - FPR). Also add the Area Under the Curve (AUC) value to the figure."
      ]
    },
    {
      "cell_type": "code",
      "metadata": {
        "id": "Pf7qgnbdFaab",
        "outputId": "ed91f497-2fe7-4133-ba5c-798282fb7b93",
        "colab": {
          "base_uri": "https://localhost:8080/",
          "height": 493
        }
      },
      "source": [
        "# Create the classifier with the optimal lambda(alpha): opti_model\n",
        "opti_model = SGDClassifier(loss=\"log\", penalty=\"l1\", alpha = opti_alpha, max_iter=1000, class_weight = \"balanced\")\n",
        "\n",
        "# Fit the classifier to the training data\n",
        "opti_model.fit(X, y)\n",
        "\n",
        "# Predict the labels of the testing set: ytest_pred\n",
        "ytest_pred = opti_model.predict(Xtest)\n",
        "\n",
        "# Compute and print the confusion matrix and classification report\n",
        "print(confusion_matrix(ytest, ytest_pred))\n",
        "print(classification_report(ytest, ytest_pred))\n",
        "# Compute predicted probabilities: ytest_pred_prob\n",
        "ytest_pred_prob = opti_model.predict_proba(Xtest)[:, 1]\n",
        "\n",
        "# Generate ROC curve values: fpr, tpr, thresholds\n",
        "fpr, tpr, thresholds = roc_curve(ytest, ytest_pred_prob)\n",
        "\n",
        "# Plot ROC curve for testing data\n",
        "plt.plot([0, 1], [0, 1], 'k--')\n",
        "plt.plot(fpr, tpr, color = 'Orange')\n",
        "plt.xlabel('False Positive Rate')\n",
        "plt.ylabel('True Positive Rate')\n",
        "plt.title('ROC Curve for testing data with AUC: {}'.format(auc(fpr,tpr)))\n",
        "\n"
      ],
      "execution_count": 41,
      "outputs": [
        {
          "output_type": "stream",
          "text": [
            "[[563565 623115]\n",
            " [ 61352  54346]]\n",
            "              precision    recall  f1-score   support\n",
            "\n",
            "           0       0.90      0.47      0.62   1186680\n",
            "           1       0.08      0.47      0.14    115698\n",
            "\n",
            "    accuracy                           0.47   1302378\n",
            "   macro avg       0.49      0.47      0.38   1302378\n",
            "weighted avg       0.83      0.47      0.58   1302378\n",
            "\n"
          ],
          "name": "stdout"
        },
        {
          "output_type": "execute_result",
          "data": {
            "text/plain": [
              "Text(0.5, 1.0, 'ROC Curve for testing data with AUC: 0.44010060321009215')"
            ]
          },
          "metadata": {
            "tags": []
          },
          "execution_count": 41
        },
        {
          "output_type": "display_data",
          "data": {
            "image/png": "[encoded data removed]",
            "text/plain": [
              "<Figure size 432x288 with 1 Axes>"
            ]
          },
          "metadata": {
            "tags": [],
            "needs_background": "light"
          }
        }
      ]
    },
    {
      "cell_type": "code",
      "metadata": {
        "id": "T-PSNRoXykHj",
        "outputId": "0ea6f6ef-6552-428f-f0cc-483aec120340",
        "colab": {
          "base_uri": "https://localhost:8080/",
          "height": 444
        }
      },
      "source": [
        "from sklearn.metrics import roc_auc_score\n",
        "print(tpr)\n",
        "print(fpr)\n",
        "print(thresholds)\n",
        "print(roc_auc_score(ytest, ytest_pred_prob))\n",
        "\n",
        "optimal_idx = np.argmin((tpr-1)**2+fpr**2)\n",
        "optimal_threshold = thresholds[optimal_idx]\n",
        "optimal_tpr = tpr[optimal_idx]\n",
        "optimal_fpr = fpr[optimal_idx]\n",
        "print(\"Operating threshold value is:\", optimal_threshold)\n",
        "print(\"Operating TPR value(sensitivity) is:\", optimal_tpr)\n",
        "print(\"Operating (1-FPR) value(specificity) is:\", 1-optimal_fpr)\n",
        "plt.plot([0, 1], [0, 1], 'k--')\n",
        "plt.scatter(optimal_fpr, optimal_tpr, s = 50, label = 'Operating Point')\n",
        "plt.legend(loc = 'center right')\n",
        "plt.plot(fpr, tpr, color = 'Orange')\n",
        "plt.xlabel('False Positive Rate')\n",
        "plt.ylabel('True Positive Rate')\n",
        "plt.title('ROC Curve for testing data with AUC: {}'.format(auc(fpr,tpr)))"
      ],
      "execution_count": 49,
      "outputs": [
        {
          "output_type": "stream",
          "text": [
            "[0.         0.46172795 0.46186624 ... 0.76436066 0.76437795 1.        ]\n",
            "[0.         0.51865035 0.51879951 ... 0.89654077 0.89654077 1.        ]\n",
            "[2.00000000e+000 1.00000000e+000 1.00000000e+000 ... 5.57364222e-309\n",
            " 5.56320582e-309 0.00000000e+000]\n",
            "0.44010060321009215\n",
            "Operating threshold value is: 3.006070836866612e-65\n",
            "Operating TPR value(sensitivity) is: 0.5085826894155474\n",
            "Operating (1-FPR) value(specificity) is: 0.44978005865102644\n"
          ],
          "name": "stdout"
        },
        {
          "output_type": "execute_result",
          "data": {
            "text/plain": [
              "Text(0.5, 1.0, 'ROC Curve for testing data with AUC: 0.44010060321009215')"
            ]
          },
          "metadata": {
            "tags": []
          },
          "execution_count": 49
        },
        {
          "output_type": "display_data",
          "data": {
            "image/png": "[encoded data removed]",
            "text/plain": [
              "<Figure size 432x288 with 1 Axes>"
            ]
          },
          "metadata": {
            "tags": [],
            "needs_background": "light"
          }
        }
      ]
    },
    {
      "cell_type": "markdown",
      "metadata": {
        "id": "BzzN-yS7JudV"
      },
      "source": [
        "# Early Warning Time (Bonus)"
      ]
    },
    {
      "cell_type": "markdown",
      "metadata": {
        "id": "H-0-uwcz3-kl"
      },
      "source": [
        "**(e)** [Bonus 10 points] Using the timestamp data, generate a histogram of Early Warning Time (EWT) values on the test data."
      ]
    },
    {
      "cell_type": "code",
      "metadata": {
        "id": "OMMYtLrw8VcK",
        "outputId": "f21012a8-7ff4-4ecd-dabc-e1359b2297a5",
        "colab": {
          "base_uri": "https://localhost:8080/",
          "height": 33
        }
      },
      "source": [
        "print(len(ytest))"
      ],
      "execution_count": 70,
      "outputs": [
        {
          "output_type": "stream",
          "text": [
            "1302378\n"
          ],
          "name": "stdout"
        }
      ]
    },
    {
      "cell_type": "code",
      "metadata": {
        "id": "2raf6df1FpRM",
        "outputId": "a90520a5-a45f-4514-ba4e-b9dfc393d39b",
        "colab": {
          "base_uri": "https://localhost:8080/",
          "height": 388
        }
      },
      "source": [
        "# Loading timestamp data\n",
        "timestamps = pd.read_csv('/'.join((DATAPATH,'test.timestamps.csv')))['x'].values\n",
        "timeonset  = pd.read_csv('/'.join((DATAPATH,'test.onsets.csv')))['onsets'].values\n",
        "timestamps_df = pd.read_csv('/'.join((DATAPATH,'test.timestamps.csv')))\n",
        "timeonset_df  = pd.read_csv('/'.join((DATAPATH,'test.onsets.csv')))\n",
        "timeonset_df.sort_values(by=['onsets'], axis=0, ascending=True)"
      ],
      "execution_count": 82,
      "outputs": [
        {
          "output_type": "execute_result",
          "data": {
            "text/html": [
              "<div>\n",
              "<style scoped>\n",
              "    .dataframe tbody tr th:only-of-type {\n",
              "        vertical-align: middle;\n",
              "    }\n",
              "\n",
              "    .dataframe tbody tr th {\n",
              "        vertical-align: top;\n",
              "    }\n",
              "\n",
              "    .dataframe thead th {\n",
              "        text-align: right;\n",
              "    }\n",
              "</style>\n",
              "<table border=\"1\" class=\"dataframe\">\n",
              "  <thead>\n",
              "    <tr style=\"text-align: right;\">\n",
              "      <th></th>\n",
              "      <th>Unnamed: 0</th>\n",
              "      <th>onsets</th>\n",
              "      <th>subjects</th>\n",
              "    </tr>\n",
              "  </thead>\n",
              "  <tbody>\n",
              "    <tr>\n",
              "      <th>757</th>\n",
              "      <td>758</td>\n",
              "      <td>2100-09-08 08:27:00</td>\n",
              "      <td>253527</td>\n",
              "    </tr>\n",
              "    <tr>\n",
              "      <th>121</th>\n",
              "      <td>122</td>\n",
              "      <td>2100-09-18 18:20:00</td>\n",
              "      <td>249669</td>\n",
              "    </tr>\n",
              "    <tr>\n",
              "      <th>1055</th>\n",
              "      <td>1056</td>\n",
              "      <td>2100-09-29 03:54:00</td>\n",
              "      <td>206577</td>\n",
              "    </tr>\n",
              "    <tr>\n",
              "      <th>329</th>\n",
              "      <td>330</td>\n",
              "      <td>2101-04-16 19:15:00</td>\n",
              "      <td>249146</td>\n",
              "    </tr>\n",
              "    <tr>\n",
              "      <th>1043</th>\n",
              "      <td>1044</td>\n",
              "      <td>2101-06-13 15:00:00</td>\n",
              "      <td>240163</td>\n",
              "    </tr>\n",
              "    <tr>\n",
              "      <th>...</th>\n",
              "      <td>...</td>\n",
              "      <td>...</td>\n",
              "      <td>...</td>\n",
              "    </tr>\n",
              "    <tr>\n",
              "      <th>198</th>\n",
              "      <td>199</td>\n",
              "      <td>2202-02-27 14:14:00</td>\n",
              "      <td>203466</td>\n",
              "    </tr>\n",
              "    <tr>\n",
              "      <th>245</th>\n",
              "      <td>246</td>\n",
              "      <td>2202-04-14 17:15:00</td>\n",
              "      <td>252746</td>\n",
              "    </tr>\n",
              "    <tr>\n",
              "      <th>651</th>\n",
              "      <td>652</td>\n",
              "      <td>2202-09-24 23:54:00</td>\n",
              "      <td>291628</td>\n",
              "    </tr>\n",
              "    <tr>\n",
              "      <th>631</th>\n",
              "      <td>632</td>\n",
              "      <td>2205-01-17 01:00:00</td>\n",
              "      <td>280951</td>\n",
              "    </tr>\n",
              "    <tr>\n",
              "      <th>660</th>\n",
              "      <td>661</td>\n",
              "      <td>2206-02-16 10:29:00</td>\n",
              "      <td>293169</td>\n",
              "    </tr>\n",
              "  </tbody>\n",
              "</table>\n",
              "<p>1114 rows × 3 columns</p>\n",
              "</div>"
            ],
            "text/plain": [
              "      Unnamed: 0               onsets  subjects\n",
              "757          758  2100-09-08 08:27:00    253527\n",
              "121          122  2100-09-18 18:20:00    249669\n",
              "1055        1056  2100-09-29 03:54:00    206577\n",
              "329          330  2101-04-16 19:15:00    249146\n",
              "1043        1044  2101-06-13 15:00:00    240163\n",
              "...          ...                  ...       ...\n",
              "198          199  2202-02-27 14:14:00    203466\n",
              "245          246  2202-04-14 17:15:00    252746\n",
              "651          652  2202-09-24 23:54:00    291628\n",
              "631          632  2205-01-17 01:00:00    280951\n",
              "660          661  2206-02-16 10:29:00    293169\n",
              "\n",
              "[1114 rows x 3 columns]"
            ]
          },
          "metadata": {
            "tags": []
          },
          "execution_count": 82
        }
      ]
    },
    {
      "cell_type": "code",
      "metadata": {
        "id": "NjgRTCZm4Wxe",
        "outputId": "5f9b38d2-1cc6-46bb-919e-37f4087fe4b2",
        "colab": {
          "base_uri": "https://localhost:8080/",
          "height": 388
        }
      },
      "source": [
        "timestamps_dff = timestamps_df.sort_values(by=['x'], axis=0, ascending=True)\n",
        "timestamps_dff = timestamps_dff.reset_index()\n",
        "del timestamps_dff['index']\n",
        "timestamps_dff['x'] = pd.to_datetime(timestamps_dff['x'])\n",
        "timestamps_dff.head(1515)"
      ],
      "execution_count": 196,
      "outputs": [
        {
          "output_type": "execute_result",
          "data": {
            "text/html": [
              "<div>\n",
              "<style scoped>\n",
              "    .dataframe tbody tr th:only-of-type {\n",
              "        vertical-align: middle;\n",
              "    }\n",
              "\n",
              "    .dataframe tbody tr th {\n",
              "        vertical-align: top;\n",
              "    }\n",
              "\n",
              "    .dataframe thead th {\n",
              "        text-align: right;\n",
              "    }\n",
              "</style>\n",
              "<table border=\"1\" class=\"dataframe\">\n",
              "  <thead>\n",
              "    <tr style=\"text-align: right;\">\n",
              "      <th></th>\n",
              "      <th>Unnamed: 0</th>\n",
              "      <th>x</th>\n",
              "    </tr>\n",
              "  </thead>\n",
              "  <tbody>\n",
              "    <tr>\n",
              "      <th>0</th>\n",
              "      <td>538618</td>\n",
              "      <td>2100-06-09 01:18:00</td>\n",
              "    </tr>\n",
              "    <tr>\n",
              "      <th>1</th>\n",
              "      <td>538619</td>\n",
              "      <td>2100-06-09 02:00:00</td>\n",
              "    </tr>\n",
              "    <tr>\n",
              "      <th>2</th>\n",
              "      <td>538620</td>\n",
              "      <td>2100-06-09 02:40:00</td>\n",
              "    </tr>\n",
              "    <tr>\n",
              "      <th>3</th>\n",
              "      <td>538621</td>\n",
              "      <td>2100-06-09 03:00:00</td>\n",
              "    </tr>\n",
              "    <tr>\n",
              "      <th>4</th>\n",
              "      <td>538622</td>\n",
              "      <td>2100-06-09 04:00:00</td>\n",
              "    </tr>\n",
              "    <tr>\n",
              "      <th>...</th>\n",
              "      <td>...</td>\n",
              "      <td>...</td>\n",
              "    </tr>\n",
              "    <tr>\n",
              "      <th>1510</th>\n",
              "      <td>1264041</td>\n",
              "      <td>2100-09-08 06:00:00</td>\n",
              "    </tr>\n",
              "    <tr>\n",
              "      <th>1511</th>\n",
              "      <td>1264042</td>\n",
              "      <td>2100-09-08 07:00:00</td>\n",
              "    </tr>\n",
              "    <tr>\n",
              "      <th>1512</th>\n",
              "      <td>1264043</td>\n",
              "      <td>2100-09-08 08:00:00</td>\n",
              "    </tr>\n",
              "    <tr>\n",
              "      <th>1513</th>\n",
              "      <td>1264044</td>\n",
              "      <td>2100-09-08 08:06:00</td>\n",
              "    </tr>\n",
              "    <tr>\n",
              "      <th>1514</th>\n",
              "      <td>1264045</td>\n",
              "      <td>2100-09-08 08:27:00</td>\n",
              "    </tr>\n",
              "  </tbody>\n",
              "</table>\n",
              "<p>1515 rows × 2 columns</p>\n",
              "</div>"
            ],
            "text/plain": [
              "      Unnamed: 0                   x\n",
              "0         538618 2100-06-09 01:18:00\n",
              "1         538619 2100-06-09 02:00:00\n",
              "2         538620 2100-06-09 02:40:00\n",
              "3         538621 2100-06-09 03:00:00\n",
              "4         538622 2100-06-09 04:00:00\n",
              "...          ...                 ...\n",
              "1510     1264041 2100-09-08 06:00:00\n",
              "1511     1264042 2100-09-08 07:00:00\n",
              "1512     1264043 2100-09-08 08:00:00\n",
              "1513     1264044 2100-09-08 08:06:00\n",
              "1514     1264045 2100-09-08 08:27:00\n",
              "\n",
              "[1515 rows x 2 columns]"
            ]
          },
          "metadata": {
            "tags": []
          },
          "execution_count": 196
        }
      ]
    },
    {
      "cell_type": "code",
      "metadata": {
        "id": "TEPcVM865iea",
        "outputId": "5d97604b-3b4c-40e5-c76d-50c7d6ebcba7",
        "colab": {
          "base_uri": "https://localhost:8080/",
          "height": 189
        }
      },
      "source": [
        "timeonset_dff = timeonset_df.sort_values(by=['onsets'], axis=0, ascending=True)\n",
        "timeonset_dff = timeonset_dff.reset_index()\n",
        "del timeonset_dff['index']\n",
        "timeonset_dff['onsets'] = pd.to_datetime(timeonset_dff['onsets'])\n",
        "timeonset_dff.head()"
      ],
      "execution_count": 157,
      "outputs": [
        {
          "output_type": "execute_result",
          "data": {
            "text/html": [
              "<div>\n",
              "<style scoped>\n",
              "    .dataframe tbody tr th:only-of-type {\n",
              "        vertical-align: middle;\n",
              "    }\n",
              "\n",
              "    .dataframe tbody tr th {\n",
              "        vertical-align: top;\n",
              "    }\n",
              "\n",
              "    .dataframe thead th {\n",
              "        text-align: right;\n",
              "    }\n",
              "</style>\n",
              "<table border=\"1\" class=\"dataframe\">\n",
              "  <thead>\n",
              "    <tr style=\"text-align: right;\">\n",
              "      <th></th>\n",
              "      <th>Unnamed: 0</th>\n",
              "      <th>onsets</th>\n",
              "      <th>subjects</th>\n",
              "    </tr>\n",
              "  </thead>\n",
              "  <tbody>\n",
              "    <tr>\n",
              "      <th>0</th>\n",
              "      <td>758</td>\n",
              "      <td>2100-09-08 08:27:00</td>\n",
              "      <td>253527</td>\n",
              "    </tr>\n",
              "    <tr>\n",
              "      <th>1</th>\n",
              "      <td>122</td>\n",
              "      <td>2100-09-18 18:20:00</td>\n",
              "      <td>249669</td>\n",
              "    </tr>\n",
              "    <tr>\n",
              "      <th>2</th>\n",
              "      <td>1056</td>\n",
              "      <td>2100-09-29 03:54:00</td>\n",
              "      <td>206577</td>\n",
              "    </tr>\n",
              "    <tr>\n",
              "      <th>3</th>\n",
              "      <td>330</td>\n",
              "      <td>2101-04-16 19:15:00</td>\n",
              "      <td>249146</td>\n",
              "    </tr>\n",
              "    <tr>\n",
              "      <th>4</th>\n",
              "      <td>1044</td>\n",
              "      <td>2101-06-13 15:00:00</td>\n",
              "      <td>240163</td>\n",
              "    </tr>\n",
              "  </tbody>\n",
              "</table>\n",
              "</div>"
            ],
            "text/plain": [
              "   Unnamed: 0              onsets  subjects\n",
              "0         758 2100-09-08 08:27:00    253527\n",
              "1         122 2100-09-18 18:20:00    249669\n",
              "2        1056 2100-09-29 03:54:00    206577\n",
              "3         330 2101-04-16 19:15:00    249146\n",
              "4        1044 2101-06-13 15:00:00    240163"
            ]
          },
          "metadata": {
            "tags": []
          },
          "execution_count": 157
        }
      ]
    },
    {
      "cell_type": "code",
      "metadata": {
        "id": "7k2nFZ_yKv-R",
        "outputId": "802ef757-7e98-497f-9372-167f0887cf49",
        "colab": {
          "base_uri": "https://localhost:8080/",
          "height": 33
        }
      },
      "source": [
        "timeonset_dff.shape"
      ],
      "execution_count": 141,
      "outputs": [
        {
          "output_type": "execute_result",
          "data": {
            "text/plain": [
              "(1114, 3)"
            ]
          },
          "metadata": {
            "tags": []
          },
          "execution_count": 141
        }
      ]
    },
    {
      "cell_type": "code",
      "metadata": {
        "id": "U3MTKgmjEjhR",
        "outputId": "b588e9ba-2e2b-4a79-a26a-8ec565e3b5a1",
        "colab": {
          "base_uri": "https://localhost:8080/",
          "height": 33
        }
      },
      "source": [
        "timestamps_list = timestamps_dff[\"x\"].tolist()\n",
        "onsets_list = timeonset_dff[\"onsets\"].tolist()\n",
        "\n",
        "unique_index = pd.Index(timestamps_list)\n",
        "onset_index = unique_index.get_loc(onsets_list[0])\n",
        "\n",
        "startTime = timestamps_dff.x.loc[0] \n",
        "endTime = timestamps_dff.x.loc[onset_index] \n",
        "EWT = endTime - startTime\n",
        "print(EWT)"
      ],
      "execution_count": 139,
      "outputs": [
        {
          "output_type": "stream",
          "text": [
            "91 days 07:09:00\n"
          ],
          "name": "stdout"
        }
      ]
    },
    {
      "cell_type": "code",
      "metadata": {
        "id": "9SsFPSJbXm3A",
        "outputId": "982efa70-6f5f-4eb2-ee49-789b51e14d03",
        "colab": {
          "base_uri": "https://localhost:8080/",
          "height": 53
        }
      },
      "source": [
        "# Identify the index for onset time in timestamps \n",
        "onset_id = []\n",
        "for i in range(len(onsets_list)):\n",
        "  onsetid = timestamps_list.index(onsets_list[i])\n",
        "  onset_id.append(onsetid)\n",
        "\n",
        "print(onset_id)"
      ],
      "execution_count": 189,
      "outputs": [
        {
          "output_type": "stream",
          "text": [
            "[1514, 1752, 1821, 5211, 6439, 8687, 11388, 11483, 11794, 14570, 16928, 17696, 17726, 18764, 18909, 20140, 20229, 20527, 22534, 24305, 25836, 25919, 33203, 33604, 34615, 34619, 35045, 36003, 36143, 36189, 36265, 36435, 37584, 39513, 41579, 42730, 43776, 43928, 45635, 46371, 47245, 47260, 48105, 50431, 51822, 52775, 53994, 55058, 55066, 59587, 63370, 64659, 64811, 65543, 65598, 65689, 66405, 67383, 69340, 69510, 71406, 71672, 73812, 73829, 74078, 74155, 74264, 77860, 78029, 80414, 80984, 82010, 82757, 84758, 86639, 87290, 87779, 88129, 88368, 88427, 88662, 89268, 89519, 92490, 96473, 98307, 99950, 100474, 102499, 106222, 108085, 108789, 109094, 109309, 110026, 111761, 111824, 114394, 116257, 116656, 117442, 118699, 119851, 120222, 121587, 123472, 124006, 124529, 126450, 127225, 127972, 129753, 129827, 131552, 132075, 132896, 133071, 133393, 133723, 133813, 134595, 134722, 138099, 138188, 138517, 138988, 140146, 140251, 141896, 145610, 146472, 146510, 146890, 146908, 147203, 153873, 155305, 156046, 156771, 159133, 159373, 161368, 163231, 164148, 164242, 164446, 164542, 164551, 167434, 167468, 168955, 170033, 170713, 171493, 171565, 172879, 173018, 174637, 175191, 175242, 175749, 181627, 182591, 183692, 184494, 184989, 185551, 185564, 185755, 186995, 187157, 187433, 187442, 187485, 188132, 188932, 191224, 193332, 196367, 196512, 197262, 197478, 198324, 200359, 200397, 200635, 204460, 204550, 205083, 206341, 206354, 207914, 208022, 209713, 210507, 211868, 212308, 212699, 213015, 214824, 217391, 217667, 220339, 221652, 223155, 223876, 224455, 226084, 228037, 228555, 228718, 229479, 230175, 230532, 232846, 233571, 233582, 233984, 234160, 234995, 236150, 239988, 243612, 243799, 244051, 244876, 245558, 249857, 252919, 253385, 255091, 256268, 258601, 259592, 260492, 260499, 260516, 260651, 260850, 260931, 261311, 263016, 263349, 264665, 266417, 268212, 269662, 272958, 273505, 274069, 275102, 276372, 276737, 278405, 278583, 280172, 281202, 281235, 281915, 283261, 286310, 286738, 288710, 288990, 289145, 293326, 293707, 293883, 294775, 295825, 297424, 298975, 299042, 299353, 299535, 301125, 301886, 302054, 303238, 304373, 304929, 305215, 305229, 305588, 305823, 306692, 307490, 307873, 308093, 309675, 310245, 310377, 311702, 311827, 313503, 314045, 319122, 319396, 319491, 319637, 320693, 321234, 321402, 321407, 322015, 322172, 323978, 327129, 330114, 331459, 332885, 334448, 336158, 336436, 336573, 337806, 338516, 338761, 340120, 340314, 340941, 342852, 342996, 344236, 345253, 346021, 347707, 347785, 348009, 348294, 351541, 353713, 354467, 355451, 358560, 360995, 361322, 361864, 363380, 365580, 365976, 366104, 368922, 369606, 370564, 372311, 372415, 373780, 374403, 382249, 383369, 385249, 385288, 385558, 385600, 386419, 386650, 387200, 388198, 399858, 400656, 401069, 401758, 404840, 404931, 404948, 406347, 406728, 407051, 407985, 408421, 411333, 411836, 413468, 414664, 415318, 416293, 418321, 418637, 419827, 421094, 421512, 422580, 422892, 422961, 423438, 423816, 424015, 427485, 427789, 429020, 430067, 430395, 438784, 441950, 442795, 444749, 445655, 446531, 446546, 448529, 451019, 454245, 458255, 458402, 459704, 463454, 463621, 465999, 466122, 468651, 469918, 472195, 473339, 473555, 476136, 476395, 476502, 477282, 479456, 482361, 484508, 485093, 485836, 491315, 492069, 492309, 492994, 493631, 493830, 496339, 497709, 498530, 498974, 499105, 500893, 501759, 501871, 506321, 507137, 507184, 511041, 514499, 515255, 516012, 519961, 521209, 524195, 524936, 525460, 525475, 527067, 527554, 527559, 527562, 527759, 529068, 530642, 530711, 531004, 534008, 534875, 536203, 536968, 537162, 542745, 545581, 546266, 547204, 547810, 549767, 549784, 552263, 552652, 553040, 553896, 554065, 554430, 554952, 556071, 558642, 558962, 560182, 560844, 562426, 563848, 563941, 564033, 564885, 566330, 567350, 567818, 568626, 568916, 569012, 569033, 569083, 571999, 572851, 575258, 576863, 576940, 579137, 582192, 589046, 589833, 591477, 592342, 594393, 594579, 594633, 595226, 599895, 601144, 602246, 603399, 605821, 608172, 608881, 610579, 611063, 611258, 611462, 612510, 613617, 614889, 614896, 616394, 618279, 621551, 621932, 622317, 624483, 624703, 624894, 625690, 626160, 626578, 628375, 629236, 633463, 633958, 634172, 634228, 634902, 635648, 636438, 636676, 636683, 636694, 637608, 639779, 640773, 641103, 641460, 641623, 641770, 642698, 642806, 643526, 643600, 644792, 645796, 646915, 649978, 650014, 650043, 650483, 650728, 651521, 651528, 651918, 654587, 656340, 658144, 660202, 661934, 662953, 663650, 664122, 664803, 670032, 671183, 671286, 671372, 672013, 672018, 672516, 674453, 674743, 674814, 674823, 674964, 678253, 678628, 680712, 683669, 683758, 685205, 686616, 686712, 687793, 688707, 689672, 690579, 692179, 692860, 693319, 694487, 694713, 694889, 696400, 697025, 697722, 698469, 700860, 701741, 702108, 702441, 702867, 703211, 703898, 704873, 705323, 707096, 710613, 711167, 712391, 715110, 715153, 715940, 721206, 723988, 727791, 730204, 733115, 733159, 733336, 733509, 733974, 734062, 734876, 734883, 735138, 735176, 736114, 736696, 736995, 740359, 740726, 740826, 742170, 745783, 746597, 746944, 752110, 753274, 753542, 755056, 755097, 756095, 756560, 756698, 757107, 760161, 763753, 764015, 765863, 766064, 766348, 766566, 767167, 768585, 769609, 774163, 776063, 776469, 777208, 777682, 778874, 779320, 780867, 783900, 784077, 784096, 786282, 786619, 786721, 789020, 790331, 791022, 791569, 791720, 797299, 797791, 797900, 798268, 798281, 799382, 800036, 802616, 802625, 802661, 803019, 804440, 812359, 813275, 815339, 818068, 818531, 818908, 819015, 821667, 822759, 823574, 827357, 828387, 831278, 834020, 834723, 835222, 836875, 838391, 839881, 840234, 840568, 841007, 841603, 843770, 845133, 846864, 847337, 847564, 848023, 850301, 851901, 851912, 855566, 857731, 859880, 860573, 861279, 861690, 864078, 864363, 864390, 864624, 865738, 867663, 867994, 868068, 869523, 872143, 874366, 875091, 875923, 879317, 879629, 880844, 881769, 883736, 886750, 887587, 889379, 890028, 890368, 894213, 896766, 896817, 896829, 897235, 897785, 900173, 900233, 900250, 900258, 900813, 900905, 900919, 901329, 901482, 902078, 902095, 906924, 907285, 911257, 912735, 912823, 912930, 914451, 916463, 917902, 917993, 918058, 918434, 921346, 926675, 927107, 928329, 928825, 932704, 932878, 933385, 933954, 934286, 935143, 935510, 936893, 938631, 938854, 939074, 942692, 944572, 945176, 945480, 945975, 946667, 946686, 946992, 948835, 948916, 951957, 955030, 956111, 957090, 957211, 957250, 960185, 960337, 961015, 961844, 966598, 966868, 967063, 967668, 971079, 971385, 971530, 971535, 972494, 973171, 973462, 974244, 974343, 975805, 976537, 978756, 978935, 979528, 982432, 983740, 984056, 984070, 984246, 984300, 986624, 986895, 989218, 990630, 990980, 992005, 993145, 993384, 993420, 993489, 993504, 997829, 998108, 998316, 998588, 998652, 1000838, 1001379, 1001465, 1004234, 1004584, 1004635, 1005666, 1005987, 1006382, 1008484, 1009435, 1009717, 1012094, 1013506, 1013577, 1014014, 1014388, 1015067, 1015843, 1016379, 1016547, 1018558, 1018573, 1018610, 1018846, 1021249, 1021321, 1021443, 1023296, 1023606, 1024274, 1025254, 1026069, 1027833, 1027961, 1028086, 1028349, 1028445, 1028650, 1029978, 1030170, 1030713, 1031090, 1031236, 1032913, 1033217, 1033578, 1037434, 1037478, 1038856, 1039076, 1040425, 1042133, 1042239, 1043831, 1045244, 1045250, 1045898, 1048046, 1049703, 1054726, 1055715, 1056030, 1056392, 1057224, 1057387, 1057391, 1057470, 1057830, 1058605, 1059233, 1059409, 1059461, 1059469, 1059496, 1060298, 1060827, 1061353, 1061785, 1065160, 1065163, 1065476, 1065953, 1066965, 1068233, 1068744, 1070026, 1071125, 1071622, 1075200, 1075461, 1078010, 1078056, 1079935, 1080988, 1081833, 1082760, 1082800, 1085284, 1088231, 1090065, 1090407, 1092904, 1093123, 1093397, 1093718, 1094909, 1095031, 1096267, 1096639, 1097295, 1097873, 1098041, 1099428, 1099854, 1099997, 1104172, 1106714, 1107087, 1107172, 1107483, 1107908, 1107984, 1109075, 1115055, 1116111, 1116420, 1121067, 1122953, 1124464, 1125004, 1125034, 1125621, 1126559, 1127109, 1127147, 1129190, 1130827, 1131790, 1134093, 1134130, 1135514, 1136048, 1136784, 1138840, 1139255, 1139644, 1140001, 1140890, 1147156, 1147203, 1148232, 1148975, 1150879, 1151086, 1151590, 1155168, 1158718, 1160258, 1168108, 1168973, 1169189, 1169422, 1169699, 1170316, 1171678, 1173040, 1173982, 1174877, 1175959, 1176022, 1178168, 1179028, 1180471, 1200817, 1200952, 1201024, 1202933, 1207989, 1208650, 1209836, 1209900, 1210227, 1211252, 1212875, 1213028, 1214315, 1217364, 1217979, 1218017, 1218982, 1222867, 1239703, 1242126, 1242300, 1242658, 1242770, 1242848, 1247819, 1248838, 1249215, 1253001, 1253347, 1253348, 1254629, 1255049, 1255174, 1257828, 1260287, 1261217, 1262167, 1262238, 1262313, 1263367, 1264357, 1264382, 1265821, 1268220, 1269776, 1270590, 1270720, 1271943, 1272815, 1273981, 1277166, 1277308, 1277736, 1282226, 1283746, 1284033, 1284154, 1284799, 1284848, 1284884, 1285586, 1288036, 1289351, 1289503, 1290836, 1292499, 1292828, 1301602, 1302053]\n"
          ],
          "name": "stdout"
        }
      ]
    },
    {
      "cell_type": "code",
      "metadata": {
        "id": "tB7KDultYz4H",
        "outputId": "3fbd226a-b8cc-426f-c22f-f56e03bbdf71",
        "colab": {
          "base_uri": "https://localhost:8080/",
          "height": 53
        }
      },
      "source": [
        "# Construct index list for elapse starting time\n",
        "start_id = [x+1 for x in onset_id]\n",
        "start_id.insert(0,0) # Manually insert the starting index 0\n",
        "del start_id[-1] # deleting the last index\n",
        "\n",
        "print(start_id)"
      ],
      "execution_count": 190,
      "outputs": [
        {
          "output_type": "stream",
          "text": [
            "[0, 1515, 1753, 1822, 5212, 6440, 8688, 11389, 11484, 11795, 14571, 16929, 17697, 17727, 18765, 18910, 20141, 20230, 20528, 22535, 24306, 25837, 25920, 33204, 33605, 34616, 34620, 35046, 36004, 36144, 36190, 36266, 36436, 37585, 39514, 41580, 42731, 43777, 43929, 45636, 46372, 47246, 47261, 48106, 50432, 51823, 52776, 53995, 55059, 55067, 59588, 63371, 64660, 64812, 65544, 65599, 65690, 66406, 67384, 69341, 69511, 71407, 71673, 73813, 73830, 74079, 74156, 74265, 77861, 78030, 80415, 80985, 82011, 82758, 84759, 86640, 87291, 87780, 88130, 88369, 88428, 88663, 89269, 89520, 92491, 96474, 98308, 99951, 100475, 102500, 106223, 108086, 108790, 109095, 109310, 110027, 111762, 111825, 114395, 116258, 116657, 117443, 118700, 119852, 120223, 121588, 123473, 124007, 124530, 126451, 127226, 127973, 129754, 129828, 131553, 132076, 132897, 133072, 133394, 133724, 133814, 134596, 134723, 138100, 138189, 138518, 138989, 140147, 140252, 141897, 145611, 146473, 146511, 146891, 146909, 147204, 153874, 155306, 156047, 156772, 159134, 159374, 161369, 163232, 164149, 164243, 164447, 164543, 164552, 167435, 167469, 168956, 170034, 170714, 171494, 171566, 172880, 173019, 174638, 175192, 175243, 175750, 181628, 182592, 183693, 184495, 184990, 185552, 185565, 185756, 186996, 187158, 187434, 187443, 187486, 188133, 188933, 191225, 193333, 196368, 196513, 197263, 197479, 198325, 200360, 200398, 200636, 204461, 204551, 205084, 206342, 206355, 207915, 208023, 209714, 210508, 211869, 212309, 212700, 213016, 214825, 217392, 217668, 220340, 221653, 223156, 223877, 224456, 226085, 228038, 228556, 228719, 229480, 230176, 230533, 232847, 233572, 233583, 233985, 234161, 234996, 236151, 239989, 243613, 243800, 244052, 244877, 245559, 249858, 252920, 253386, 255092, 256269, 258602, 259593, 260493, 260500, 260517, 260652, 260851, 260932, 261312, 263017, 263350, 264666, 266418, 268213, 269663, 272959, 273506, 274070, 275103, 276373, 276738, 278406, 278584, 280173, 281203, 281236, 281916, 283262, 286311, 286739, 288711, 288991, 289146, 293327, 293708, 293884, 294776, 295826, 297425, 298976, 299043, 299354, 299536, 301126, 301887, 302055, 303239, 304374, 304930, 305216, 305230, 305589, 305824, 306693, 307491, 307874, 308094, 309676, 310246, 310378, 311703, 311828, 313504, 314046, 319123, 319397, 319492, 319638, 320694, 321235, 321403, 321408, 322016, 322173, 323979, 327130, 330115, 331460, 332886, 334449, 336159, 336437, 336574, 337807, 338517, 338762, 340121, 340315, 340942, 342853, 342997, 344237, 345254, 346022, 347708, 347786, 348010, 348295, 351542, 353714, 354468, 355452, 358561, 360996, 361323, 361865, 363381, 365581, 365977, 366105, 368923, 369607, 370565, 372312, 372416, 373781, 374404, 382250, 383370, 385250, 385289, 385559, 385601, 386420, 386651, 387201, 388199, 399859, 400657, 401070, 401759, 404841, 404932, 404949, 406348, 406729, 407052, 407986, 408422, 411334, 411837, 413469, 414665, 415319, 416294, 418322, 418638, 419828, 421095, 421513, 422581, 422893, 422962, 423439, 423817, 424016, 427486, 427790, 429021, 430068, 430396, 438785, 441951, 442796, 444750, 445656, 446532, 446547, 448530, 451020, 454246, 458256, 458403, 459705, 463455, 463622, 466000, 466123, 468652, 469919, 472196, 473340, 473556, 476137, 476396, 476503, 477283, 479457, 482362, 484509, 485094, 485837, 491316, 492070, 492310, 492995, 493632, 493831, 496340, 497710, 498531, 498975, 499106, 500894, 501760, 501872, 506322, 507138, 507185, 511042, 514500, 515256, 516013, 519962, 521210, 524196, 524937, 525461, 525476, 527068, 527555, 527560, 527563, 527760, 529069, 530643, 530712, 531005, 534009, 534876, 536204, 536969, 537163, 542746, 545582, 546267, 547205, 547811, 549768, 549785, 552264, 552653, 553041, 553897, 554066, 554431, 554953, 556072, 558643, 558963, 560183, 560845, 562427, 563849, 563942, 564034, 564886, 566331, 567351, 567819, 568627, 568917, 569013, 569034, 569084, 572000, 572852, 575259, 576864, 576941, 579138, 582193, 589047, 589834, 591478, 592343, 594394, 594580, 594634, 595227, 599896, 601145, 602247, 603400, 605822, 608173, 608882, 610580, 611064, 611259, 611463, 612511, 613618, 614890, 614897, 616395, 618280, 621552, 621933, 622318, 624484, 624704, 624895, 625691, 626161, 626579, 628376, 629237, 633464, 633959, 634173, 634229, 634903, 635649, 636439, 636677, 636684, 636695, 637609, 639780, 640774, 641104, 641461, 641624, 641771, 642699, 642807, 643527, 643601, 644793, 645797, 646916, 649979, 650015, 650044, 650484, 650729, 651522, 651529, 651919, 654588, 656341, 658145, 660203, 661935, 662954, 663651, 664123, 664804, 670033, 671184, 671287, 671373, 672014, 672019, 672517, 674454, 674744, 674815, 674824, 674965, 678254, 678629, 680713, 683670, 683759, 685206, 686617, 686713, 687794, 688708, 689673, 690580, 692180, 692861, 693320, 694488, 694714, 694890, 696401, 697026, 697723, 698470, 700861, 701742, 702109, 702442, 702868, 703212, 703899, 704874, 705324, 707097, 710614, 711168, 712392, 715111, 715154, 715941, 721207, 723989, 727792, 730205, 733116, 733160, 733337, 733510, 733975, 734063, 734877, 734884, 735139, 735177, 736115, 736697, 736996, 740360, 740727, 740827, 742171, 745784, 746598, 746945, 752111, 753275, 753543, 755057, 755098, 756096, 756561, 756699, 757108, 760162, 763754, 764016, 765864, 766065, 766349, 766567, 767168, 768586, 769610, 774164, 776064, 776470, 777209, 777683, 778875, 779321, 780868, 783901, 784078, 784097, 786283, 786620, 786722, 789021, 790332, 791023, 791570, 791721, 797300, 797792, 797901, 798269, 798282, 799383, 800037, 802617, 802626, 802662, 803020, 804441, 812360, 813276, 815340, 818069, 818532, 818909, 819016, 821668, 822760, 823575, 827358, 828388, 831279, 834021, 834724, 835223, 836876, 838392, 839882, 840235, 840569, 841008, 841604, 843771, 845134, 846865, 847338, 847565, 848024, 850302, 851902, 851913, 855567, 857732, 859881, 860574, 861280, 861691, 864079, 864364, 864391, 864625, 865739, 867664, 867995, 868069, 869524, 872144, 874367, 875092, 875924, 879318, 879630, 880845, 881770, 883737, 886751, 887588, 889380, 890029, 890369, 894214, 896767, 896818, 896830, 897236, 897786, 900174, 900234, 900251, 900259, 900814, 900906, 900920, 901330, 901483, 902079, 902096, 906925, 907286, 911258, 912736, 912824, 912931, 914452, 916464, 917903, 917994, 918059, 918435, 921347, 926676, 927108, 928330, 928826, 932705, 932879, 933386, 933955, 934287, 935144, 935511, 936894, 938632, 938855, 939075, 942693, 944573, 945177, 945481, 945976, 946668, 946687, 946993, 948836, 948917, 951958, 955031, 956112, 957091, 957212, 957251, 960186, 960338, 961016, 961845, 966599, 966869, 967064, 967669, 971080, 971386, 971531, 971536, 972495, 973172, 973463, 974245, 974344, 975806, 976538, 978757, 978936, 979529, 982433, 983741, 984057, 984071, 984247, 984301, 986625, 986896, 989219, 990631, 990981, 992006, 993146, 993385, 993421, 993490, 993505, 997830, 998109, 998317, 998589, 998653, 1000839, 1001380, 1001466, 1004235, 1004585, 1004636, 1005667, 1005988, 1006383, 1008485, 1009436, 1009718, 1012095, 1013507, 1013578, 1014015, 1014389, 1015068, 1015844, 1016380, 1016548, 1018559, 1018574, 1018611, 1018847, 1021250, 1021322, 1021444, 1023297, 1023607, 1024275, 1025255, 1026070, 1027834, 1027962, 1028087, 1028350, 1028446, 1028651, 1029979, 1030171, 1030714, 1031091, 1031237, 1032914, 1033218, 1033579, 1037435, 1037479, 1038857, 1039077, 1040426, 1042134, 1042240, 1043832, 1045245, 1045251, 1045899, 1048047, 1049704, 1054727, 1055716, 1056031, 1056393, 1057225, 1057388, 1057392, 1057471, 1057831, 1058606, 1059234, 1059410, 1059462, 1059470, 1059497, 1060299, 1060828, 1061354, 1061786, 1065161, 1065164, 1065477, 1065954, 1066966, 1068234, 1068745, 1070027, 1071126, 1071623, 1075201, 1075462, 1078011, 1078057, 1079936, 1080989, 1081834, 1082761, 1082801, 1085285, 1088232, 1090066, 1090408, 1092905, 1093124, 1093398, 1093719, 1094910, 1095032, 1096268, 1096640, 1097296, 1097874, 1098042, 1099429, 1099855, 1099998, 1104173, 1106715, 1107088, 1107173, 1107484, 1107909, 1107985, 1109076, 1115056, 1116112, 1116421, 1121068, 1122954, 1124465, 1125005, 1125035, 1125622, 1126560, 1127110, 1127148, 1129191, 1130828, 1131791, 1134094, 1134131, 1135515, 1136049, 1136785, 1138841, 1139256, 1139645, 1140002, 1140891, 1147157, 1147204, 1148233, 1148976, 1150880, 1151087, 1151591, 1155169, 1158719, 1160259, 1168109, 1168974, 1169190, 1169423, 1169700, 1170317, 1171679, 1173041, 1173983, 1174878, 1175960, 1176023, 1178169, 1179029, 1180472, 1200818, 1200953, 1201025, 1202934, 1207990, 1208651, 1209837, 1209901, 1210228, 1211253, 1212876, 1213029, 1214316, 1217365, 1217980, 1218018, 1218983, 1222868, 1239704, 1242127, 1242301, 1242659, 1242771, 1242849, 1247820, 1248839, 1249216, 1253002, 1253348, 1253349, 1254630, 1255050, 1255175, 1257829, 1260288, 1261218, 1262168, 1262239, 1262314, 1263368, 1264358, 1264383, 1265822, 1268221, 1269777, 1270591, 1270721, 1271944, 1272816, 1273982, 1277167, 1277309, 1277737, 1282227, 1283747, 1284034, 1284155, 1284800, 1284849, 1284885, 1285587, 1288037, 1289352, 1289504, 1290837, 1292500, 1292829, 1301603]\n"
          ],
          "name": "stdout"
        }
      ]
    },
    {
      "cell_type": "code",
      "metadata": {
        "id": "TurE6eHXQPr9",
        "outputId": "29bed2c3-2e19-4d9f-9461-85adff1bd633",
        "colab": {
          "base_uri": "https://localhost:8080/",
          "height": 53
        }
      },
      "source": [
        "EWT = []\n",
        "for i in range(timeonset_dff.shape[0]):\n",
        "  startTime = timestamps_dff.x.loc[start_id[i]] \n",
        "  endTime = timestamps_dff.x.loc[onset_id[i]]\n",
        "  ewt = endTime - startTime\n",
        "  EWT.append(ewt)\n",
        "\n",
        "print(EWT)"
      ],
      "execution_count": 191,
      "outputs": [
        {
          "output_type": "stream",
          "text": [
            "[Timedelta('91 days 07:09:00'), Timedelta('8 days 10:30:00'), Timedelta('10 days 08:54:00'), Timedelta('197 days 06:45:00'), Timedelta('57 days 19:00:00'), Timedelta('53 days 06:15:00'), Timedelta('37 days 20:08:00'), Timedelta('8 days 11:30:00'), Timedelta('7 days 08:30:00'), Timedelta('54 days 17:00:00'), Timedelta('31 days 23:20:00'), Timedelta('9 days 17:44:00'), Timedelta('0 days 05:49:00'), Timedelta('15 days 13:45:00'), Timedelta('1 days 17:21:00'), Timedelta('12 days 19:37:00'), Timedelta('10 days 13:45:00'), Timedelta('1 days 13:23:00'), Timedelta('61 days 12:30:00'), Timedelta('50 days 09:52:00'), Timedelta('61 days 10:13:00'), Timedelta('1 days 12:00:00'), Timedelta('268 days 11:32:00'), Timedelta('5 days 01:00:00'), Timedelta('35 days 07:30:00'), Timedelta('0 days 00:12:00'), Timedelta('16 days 19:11:00'), Timedelta('10 days 08:30:00'), Timedelta('1 days 05:30:00'), Timedelta('8 days 17:46:00'), Timedelta('2 days 10:24:00'), Timedelta('3 days 17:30:00'), Timedelta('25 days 20:24:00'), Timedelta('65 days 02:30:00'), Timedelta('27 days 02:49:00'), Timedelta('33 days 02:02:00'), Timedelta('38 days 17:26:00'), Timedelta('1 days 22:08:00'), Timedelta('28 days 14:27:00'), Timedelta('16 days 19:19:00'), Timedelta('87 days 04:11:00'), Timedelta('0 days 06:10:00'), Timedelta('33 days 03:57:00'), Timedelta('88 days 19:35:00'), Timedelta('12 days 19:38:00'), Timedelta('27 days 13:26:00'), Timedelta('46 days 19:35:00'), Timedelta('53 days 07:49:00'), Timedelta('0 days 02:33:00'), Timedelta('130 days 18:31:00'), Timedelta('76 days 17:50:00'), Timedelta('48 days 12:27:00'), Timedelta('3 days 18:33:00'), Timedelta('38 days 20:15:00'), Timedelta('0 days 22:24:00'), Timedelta('1 days 03:27:00'), Timedelta('17 days 20:35:00'), Timedelta('33 days 04:36:00'), Timedelta('50 days 22:24:00'), Timedelta('3 days 13:22:00'), Timedelta('90 days 06:00:00'), Timedelta('3 days 08:00:00'), Timedelta('60 days 16:26:00'), Timedelta('0 days 05:10:00'), Timedelta('3 days 00:30:00'), Timedelta('0 days 11:00:00'), Timedelta('2 days 03:00:00'), Timedelta('174 days 08:15:00'), Timedelta('12 days 01:51:00'), Timedelta('48 days 13:04:00'), Timedelta('30 days 21:00:00'), Timedelta('58 days 10:26:00'), Timedelta('15 days 11:21:00'), Timedelta('71 days 17:31:00'), Timedelta('55 days 14:19:00'), Timedelta('29 days 20:00:00'), Timedelta('15 days 11:45:00'), Timedelta('8 days 23:30:00'), Timedelta('16 days 05:57:00'), Timedelta('3 days 10:00:00'), Timedelta('11 days 00:39:00'), Timedelta('23 days 02:57:00'), Timedelta('3 days 19:57:00'), Timedelta('104 days 11:20:00'), Timedelta('59 days 01:14:00'), Timedelta('25 days 13:13:00'), Timedelta('29 days 22:34:00'), Timedelta('16 days 17:45:00'), Timedelta('97 days 04:40:00'), Timedelta('72 days 10:03:00'), Timedelta('49 days 22:46:00'), Timedelta('40 days 06:14:00'), Timedelta('30 days 11:29:00'), Timedelta('10 days 03:00:00'), Timedelta('8 days 22:35:00'), Timedelta('48 days 18:55:00'), Timedelta('2 days 00:46:00'), Timedelta('45 days 11:37:00'), Timedelta('35 days 04:42:00'), Timedelta('11 days 03:45:00'), Timedelta('79 days 12:02:00'), Timedelta('66 days 03:33:00'), Timedelta('17 days 08:00:00'), Timedelta('39 days 04:34:00'), Timedelta('32 days 18:00:00'), Timedelta('71 days 22:30:00'), Timedelta('5 days 05:08:00'), Timedelta('12 days 04:58:00'), Timedelta('35 days 22:00:00'), Timedelta('16 days 07:15:00'), Timedelta('37 days 02:23:00'), Timedelta('27 days 20:15:00'), Timedelta('1 days 17:00:00'), Timedelta('59 days 03:08:00'), Timedelta('7 days 10:00:00'), Timedelta('24 days 10:18:00'), Timedelta('24 days 06:40:00'), Timedelta('9 days 15:20:00'), Timedelta('12 days 07:00:00'), Timedelta('11 days 05:00:00'), Timedelta('37 days 01:47:00'), Timedelta('3 days 10:15:00'), Timedelta('37 days 17:24:00'), Timedelta('1 days 12:53:00'), Timedelta('20 days 15:00:00'), Timedelta('39 days 20:15:00'), Timedelta('48 days 13:48:00'), Timedelta('9 days 14:32:00'), Timedelta('41 days 03:55:00'), Timedelta('77 days 15:57:00'), Timedelta('27 days 00:55:00'), Timedelta('0 days 11:20:00'), Timedelta('13 days 21:30:00'), Timedelta('0 days 13:28:00'), Timedelta('6 days 22:10:00'), Timedelta('111 days 10:31:00'), Timedelta('54 days 09:20:00'), Timedelta('21 days 02:48:00'), Timedelta('34 days 03:00:00'), Timedelta('77 days 02:17:00'), Timedelta('6 days 23:50:00'), Timedelta('78 days 02:00:00'), Timedelta('38 days 03:07:00'), Timedelta('52 days 04:01:00'), Timedelta('4 days 03:56:00'), Timedelta('8 days 15:14:00'), Timedelta('6 days 20:07:00'), Timedelta('0 days 01:22:00'), Timedelta('107 days 14:29:00'), Timedelta('0 days 11:19:00'), Timedelta('21 days 03:43:00'), Timedelta('23 days 12:50:00'), Timedelta('5 days 21:25:00'), Timedelta('35 days 01:38:00'), Timedelta('2 days 08:26:00'), Timedelta('62 days 20:30:00'), Timedelta('13 days 20:21:00'), Timedelta('48 days 02:59:00'), Timedelta('18 days 12:20:00'), Timedelta('1 days 11:38:00'), Timedelta('33 days 12:10:00'), Timedelta('96 days 03:25:00'), Timedelta('44 days 08:16:00'), Timedelta('30 days 10:00:00'), Timedelta('25 days 18:58:00'), Timedelta('45 days 00:55:00'), Timedelta('12 days 00:20:00'), Timedelta('0 days 03:34:00'), Timedelta('2 days 13:49:00'), Timedelta('79 days 23:05:00'), Timedelta('4 days 04:40:00'), Timedelta('32 days 15:39:00'), Timedelta('0 days 01:14:00'), Timedelta('0 days 22:41:00'), Timedelta('21 days 01:40:00'), Timedelta('12 days 15:00:00'), Timedelta('35 days 12:38:00'), Timedelta('62 days 21:59:00'), Timedelta('44 days 19:41:00'), Timedelta('13 days 02:55:00'), Timedelta('20 days 09:32:00'), Timedelta('54 days 01:30:00'), Timedelta('23 days 10:35:00'), Timedelta('60 days 19:00:00'), Timedelta('0 days 08:37:00'), Timedelta('7 days 12:19:00'), Timedelta('149 days 02:06:00'), Timedelta('2 days 01:45:00'), Timedelta('20 days 10:45:00'), Timedelta('44 days 06:55:00'), Timedelta('0 days 08:00:00'), Timedelta('43 days 12:14:00'), Timedelta('2 days 14:00:00'), Timedelta('37 days 10:05:00'), Timedelta('16 days 14:52:00'), Timedelta('28 days 03:00:00'), Timedelta('4 days 03:26:00'), Timedelta('8 days 13:00:00'), Timedelta('42 days 04:00:00'), Timedelta('71 days 23:10:00'), Timedelta('50 days 01:25:00'), Timedelta('7 days 08:52:00'), Timedelta('65 days 18:21:00'), Timedelta('14 days 23:45:00'), Timedelta('32 days 16:30:00'), Timedelta('31 days 08:21:00'), Timedelta('10 days 08:40:00'), Timedelta('35 days 10:11:00'), Timedelta('33 days 17:30:00'), Timedelta('22 days 08:41:00'), Timedelta('3 days 18:15:00'), Timedelta('8 days 04:43:00'), Timedelta('21 days 17:02:00'), Timedelta('21 days 18:31:00'), Timedelta('59 days 13:00:00'), Timedelta('35 days 02:20:00'), Timedelta('0 days 06:47:00'), Timedelta('40 days 19:33:00'), Timedelta('2 days 10:55:00'), Timedelta('51 days 04:30:00'), Timedelta('44 days 04:47:00'), Timedelta('46 days 21:55:00'), Timedelta('34 days 04:00:00'), Timedelta('26 days 00:07:00'), Timedelta('3 days 22:30:00'), Timedelta('16 days 21:41:00'), Timedelta('18 days 05:45:00'), Timedelta('186 days 00:04:00'), Timedelta('50 days 00:21:00'), Timedelta('10 days 04:42:00'), Timedelta('56 days 17:18:00'), Timedelta('45 days 09:57:00'), Timedelta('64 days 11:57:00'), Timedelta('30 days 21:14:00'), Timedelta('26 days 15:47:00'), Timedelta('0 days 00:26:00'), Timedelta('0 days 04:15:00'), Timedelta('6 days 10:30:00'), Timedelta('8 days 05:53:00'), Timedelta('9 days 23:44:00'), Timedelta('21 days 20:32:00'), Timedelta('58 days 15:25:00'), Timedelta('24 days 21:21:00'), Timedelta('16 days 08:18:00'), Timedelta('24 days 17:00:00'), Timedelta('58 days 08:50:00'), Timedelta('36 days 22:48:00'), Timedelta('110 days 16:00:00'), Timedelta('7 days 09:23:00'), Timedelta('6 days 03:00:00'), Timedelta('12 days 04:00:00'), Timedelta('19 days 04:00:00'), Timedelta('7 days 06:46:00'), Timedelta('38 days 19:40:00'), Timedelta('4 days 06:40:00'), Timedelta('24 days 16:07:00'), Timedelta('25 days 18:15:00'), Timedelta('3 days 23:13:00'), Timedelta('25 days 07:09:00'), Timedelta('34 days 07:18:00'), Timedelta('67 days 21:27:00'), Timedelta('13 days 09:15:00'), Timedelta('44 days 21:24:00'), Timedelta('3 days 15:05:00'), Timedelta('3 days 06:42:00'), Timedelta('116 days 16:05:00'), Timedelta('14 days 17:10:00'), Timedelta('2 days 20:27:00'), Timedelta('15 days 03:44:00'), Timedelta('34 days 11:43:00'), Timedelta('62 days 04:15:00'), Timedelta('54 days 06:30:00'), Timedelta('15 days 00:30:00'), Timedelta('4 days 07:48:00'), Timedelta('4 days 01:50:00'), Timedelta('48 days 05:52:00'), Timedelta('9 days 23:39:00'), Timedelta('3 days 14:53:00'), Timedelta('43 days 10:17:00'), Timedelta('39 days 23:05:00'), Timedelta('5 days 00:30:00'), Timedelta('13 days 23:58:00'), Timedelta('0 days 03:42:00'), Timedelta('26 days 08:44:00'), Timedelta('11 days 05:00:00'), Timedelta('20 days 08:17:00'), Timedelta('40 days 20:40:00'), Timedelta('9 days 00:07:00'), Timedelta('10 days 17:11:00'), Timedelta('35 days 00:39:00'), Timedelta('23 days 23:30:00'), Timedelta('12 days 23:50:00'), Timedelta('24 days 06:44:00'), Timedelta('4 days 22:23:00'), Timedelta('21 days 13:05:00'), Timedelta('8 days 12:45:00'), Timedelta('209 days 17:40:00'), Timedelta('8 days 21:03:00'), Timedelta('1 days 01:34:00'), Timedelta('0 days 22:56:00'), Timedelta('22 days 20:00:00'), Timedelta('55 days 00:29:00'), Timedelta('8 days 01:05:00'), Timedelta('0 days 01:00:00'), Timedelta('34 days 17:26:00'), Timedelta('4 days 04:15:00'), Timedelta('42 days 17:48:00'), Timedelta('104 days 13:10:00'), Timedelta('38 days 08:22:00'), Timedelta('34 days 20:00:00'), Timedelta('16 days 03:00:00'), Timedelta('81 days 10:36:00'), Timedelta('38 days 02:06:00'), Timedelta('8 days 05:49:00'), Timedelta('7 days 09:32:00'), Timedelta('14 days 17:41:00'), Timedelta('3 days 21:44:00'), Timedelta('1 days 20:15:00'), Timedelta('40 days 17:59:00'), Timedelta('15 days 04:29:00'), Timedelta('26 days 23:06:00'), Timedelta('50 days 08:19:00'), Timedelta('2 days 18:30:00'), Timedelta('30 days 02:54:00'), Timedelta('27 days 09:30:00'), Timedelta('11 days 18:10:00'), Timedelta('121 days 05:50:00'), Timedelta('0 days 18:46:00'), Timedelta('6 days 19:16:00'), Timedelta('13 days 18:49:00'), Timedelta('146 days 19:30:00'), Timedelta('45 days 01:09:00'), Timedelta('18 days 05:10:00'), Timedelta('18 days 04:17:00'), Timedelta('44 days 16:32:00'), Timedelta('36 days 07:30:00'), Timedelta('5 days 23:43:00'), Timedelta('13 days 19:19:00'), Timedelta('48 days 10:44:00'), Timedelta('55 days 23:30:00'), Timedelta('8 days 13:15:00'), Timedelta('1 days 01:20:00'), Timedelta('35 days 01:38:00'), Timedelta('16 days 03:05:00'), Timedelta('11 days 23:50:00'), Timedelta('30 days 00:15:00'), Timedelta('4 days 06:12:00'), Timedelta('38 days 18:08:00'), Timedelta('39 days 03:57:00'), Timedelta('119 days 06:56:00'), Timedelta('18 days 05:00:00'), Timedelta('61 days 09:00:00'), Timedelta('0 days 06:44:00'), Timedelta('12 days 00:30:00'), Timedelta('0 days 17:33:00'), Timedelta('8 days 03:23:00'), Timedelta('1 days 18:25:00'), Timedelta('8 days 21:15:00'), Timedelta('18 days 12:18:00'), Timedelta('68 days 03:15:00'), Timedelta('31 days 13:58:00'), Timedelta('5 days 14:00:00'), Timedelta('11 days 08:49:00'), Timedelta('116 days 13:31:00'), Timedelta('1 days 07:36:00'), Timedelta('0 days 05:37:00'), Timedelta('51 days 22:30:00'), Timedelta('5 days 15:06:00'), Timedelta('11 days 02:59:00'), Timedelta('30 days 10:37:00'), Timedelta('19 days 15:12:00'), Timedelta('60 days 09:23:00'), Timedelta('17 days 15:12:00'), Timedelta('43 days 11:42:00'), Timedelta('62 days 08:00:00'), Timedelta('9 days 05:32:00'), Timedelta('24 days 15:43:00'), Timedelta('73 days 01:39:00'), Timedelta('8 days 19:25:00'), Timedelta('20 days 03:44:00'), Timedelta('14 days 13:00:00'), Timedelta('6 days 13:18:00'), Timedelta('28 days 08:36:00'), Timedelta('14 days 03:30:00'), Timedelta('11 days 10:00:00'), Timedelta('5 days 23:13:00'), Timedelta('5 days 18:30:00'), Timedelta('25 days 09:00:00'), Timedelta('43 days 09:00:00'), Timedelta('5 days 20:00:00'), Timedelta('22 days 02:08:00'), Timedelta('26 days 00:46:00'), Timedelta('8 days 01:00:00'), Timedelta('104 days 14:00:00'), Timedelta('45 days 09:54:00'), Timedelta('13 days 14:20:00'), Timedelta('32 days 20:59:00'), Timedelta('23 days 18:35:00'), Timedelta('52 days 19:30:00'), Timedelta('0 days 02:16:00'), Timedelta('68 days 03:44:00'), Timedelta('111 days 17:08:00'), Timedelta('61 days 14:35:00'), Timedelta('88 days 17:00:00'), Timedelta('29 days 10:27:00'), Timedelta('62 days 01:42:00'), Timedelta('114 days 00:08:00'), Timedelta('17 days 04:00:00'), Timedelta('57 days 10:55:00'), Timedelta('2 days 05:00:00'), Timedelta('62 days 12:35:00'), Timedelta('41 days 13:15:00'), Timedelta('43 days 12:00:00'), Timedelta('15 days 22:40:00'), Timedelta('16 days 09:00:00'), Timedelta('43 days 16:00:00'), Timedelta('7 days 03:25:00'), Timedelta('6 days 22:45:00'), Timedelta('21 days 19:40:00'), Timedelta('87 days 02:30:00'), Timedelta('30 days 20:06:00'), Timedelta('28 days 02:30:00'), Timedelta('16 days 07:00:00'), Timedelta('30 days 23:45:00'), Timedelta('126 days 05:00:00'), Timedelta('17 days 06:15:00'), Timedelta('18 days 04:00:00'), Timedelta('12 days 15:39:00'), Timedelta('19 days 02:15:00'), Timedelta('2 days 07:34:00'), Timedelta('37 days 05:56:00'), Timedelta('42 days 01:24:00'), Timedelta('23 days 09:27:00'), Timedelta('24 days 10:30:00'), Timedelta('14 days 00:20:00'), Timedelta('30 days 07:23:00'), Timedelta('12 days 14:10:00'), Timedelta('3 days 09:07:00'), Timedelta('111 days 03:15:00'), Timedelta('33 days 05:52:00'), Timedelta('0 days 08:35:00'), Timedelta('97 days 20:41:00'), Timedelta('71 days 15:30:00'), Timedelta('11 days 00:03:00'), Timedelta('33 days 07:43:00'), Timedelta('53 days 03:16:00'), Timedelta('16 days 12:07:00'), Timedelta('38 days 10:33:00'), Timedelta('16 days 13:14:00'), Timedelta('19 days 00:30:00'), Timedelta('0 days 01:53:00'), Timedelta('33 days 10:14:00'), Timedelta('6 days 05:17:00'), Timedelta('0 days 01:40:00'), Timedelta('0 days 00:55:00'), Timedelta('3 days 00:00:00'), Timedelta('17 days 20:06:00'), Timedelta('49 days 10:00:00'), Timedelta('2 days 16:00:00'), Timedelta('7 days 03:02:00'), Timedelta('65 days 19:30:00'), Timedelta('16 days 20:30:00'), Timedelta('26 days 08:41:00'), Timedelta('49 days 02:33:00'), Timedelta('2 days 06:13:00'), Timedelta('163 days 07:20:00'), Timedelta('80 days 20:23:00'), Timedelta('16 days 16:45:00'), Timedelta('34 days 15:47:00'), Timedelta('43 days 07:15:00'), Timedelta('56 days 21:30:00'), Timedelta('0 days 05:11:00'), Timedelta('51 days 17:01:00'), Timedelta('14 days 07:50:00'), Timedelta('19 days 16:37:00'), Timedelta('30 days 16:30:00'), Timedelta('18 days 07:08:00'), Timedelta('45 days 10:30:00'), Timedelta('5 days 11:52:00'), Timedelta('23 days 15:00:00'), Timedelta('38 days 02:17:00'), Timedelta('1 days 20:30:00'), Timedelta('18 days 11:00:00'), Timedelta('18 days 05:09:00'), Timedelta('35 days 14:00:00'), Timedelta('41 days 06:22:00'), Timedelta('2 days 16:30:00'), Timedelta('2 days 01:30:00'), Timedelta('29 days 14:38:00'), Timedelta('27 days 12:40:00'), Timedelta('10 days 22:54:00'), Timedelta('9 days 06:23:00'), Timedelta('20 days 03:44:00'), Timedelta('17 days 02:11:00'), Timedelta('5 days 09:06:00'), Timedelta('0 days 04:30:00'), Timedelta('1 days 03:39:00'), Timedelta('51 days 22:32:00'), Timedelta('10 days 10:33:00'), Timedelta('67 days 16:58:00'), Timedelta('48 days 09:35:00'), Timedelta('0 days 14:02:00'), Timedelta('23 days 09:51:00'), Timedelta('48 days 00:55:00'), Timedelta('102 days 19:15:00'), Timedelta('22 days 12:28:00'), Timedelta('42 days 18:39:00'), Timedelta('24 days 05:01:00'), Timedelta('39 days 00:45:00'), Timedelta('2 days 08:06:00'), Timedelta('1 days 16:31:00'), Timedelta('51 days 21:24:00'), Timedelta('114 days 03:17:00'), Timedelta('37 days 17:42:00'), Timedelta('40 days 20:02:00'), Timedelta('37 days 21:16:00'), Timedelta('102 days 16:20:00'), Timedelta('46 days 09:30:00'), Timedelta('12 days 09:00:00'), Timedelta('39 days 23:30:00'), Timedelta('7 days 09:56:00'), Timedelta('3 days 01:03:00'), Timedelta('1 days 17:43:00'), Timedelta('20 days 09:51:00'), Timedelta('24 days 03:50:00'), Timedelta('32 days 22:48:00'), Timedelta('0 days 01:04:00'), Timedelta('64 days 21:54:00'), Timedelta('37 days 17:54:00'), Timedelta('156 days 17:18:00'), Timedelta('19 days 04:45:00'), Timedelta('24 days 23:26:00'), Timedelta('40 days 20:00:00'), Timedelta('8 days 01:30:00'), Timedelta('2 days 12:45:00'), Timedelta('25 days 02:34:00'), Timedelta('10 days 14:48:00'), Timedelta('7 days 05:23:00'), Timedelta('55 days 10:00:00'), Timedelta('20 days 09:05:00'), Timedelta('108 days 13:39:00'), Timedelta('48 days 04:58:00'), Timedelta('6 days 07:58:00'), Timedelta('0 days 22:27:00'), Timedelta('7 days 12:38:00'), Timedelta('18 days 09:08:00'), Timedelta('21 days 00:14:00'), Timedelta('8 days 17:46:00'), Timedelta('0 days 01:15:00'), Timedelta('0 days 00:29:00'), Timedelta('12 days 06:12:00'), Timedelta('51 days 21:28:00'), Timedelta('39 days 17:47:00'), Timedelta('6 days 03:15:00'), Timedelta('7 days 02:02:00'), Timedelta('12 days 02:52:00'), Timedelta('6 days 04:21:00'), Timedelta('45 days 22:39:00'), Timedelta('2 days 17:11:00'), Timedelta('22 days 16:23:00'), Timedelta('1 days 17:01:00'), Timedelta('79 days 22:15:00'), Timedelta('40 days 10:05:00'), Timedelta('35 days 06:31:00'), Timedelta('77 days 02:12:00'), Timedelta('0 days 13:00:00'), Timedelta('0 days 05:45:00'), Timedelta('11 days 00:36:00'), Timedelta('16 days 03:30:00'), Timedelta('69 days 20:17:00'), Timedelta('0 days 02:00:00'), Timedelta('4 days 09:38:00'), Timedelta('41 days 01:47:00'), Timedelta('25 days 04:10:00'), Timedelta('30 days 07:30:00'), Timedelta('23 days 12:22:00'), Timedelta('39 days 02:40:00'), Timedelta('19 days 04:36:00'), Timedelta('18 days 08:29:00'), Timedelta('5 days 17:30:00'), Timedelta('19 days 14:30:00'), Timedelta('56 days 12:28:00'), Timedelta('37 days 02:59:00'), Timedelta('2 days 12:37:00'), Timedelta('1 days 08:10:00'), Timedelta('27 days 03:59:00'), Timedelta('0 days 01:07:00'), Timedelta('6 days 16:30:00'), Timedelta('55 days 01:55:00'), Timedelta('30 days 03:03:00'), Timedelta('11 days 23:14:00'), Timedelta('0 days 03:36:00'), Timedelta('2 days 00:37:00'), Timedelta('97 days 06:00:00'), Timedelta('9 days 20:37:00'), Timedelta('78 days 07:30:00'), Timedelta('115 days 03:12:00'), Timedelta('2 days 08:30:00'), Timedelta('47 days 18:30:00'), Timedelta('71 days 14:15:00'), Timedelta('12 days 17:03:00'), Timedelta('15 days 02:03:00'), Timedelta('24 days 21:45:00'), Timedelta('25 days 02:00:00'), Timedelta('48 days 07:30:00'), Timedelta('14 days 16:30:00'), Timedelta('17 days 06:45:00'), Timedelta('52 days 07:39:00'), Timedelta('53 days 07:49:00'), Timedelta('2 days 22:58:00'), Timedelta('3 days 16:28:00'), Timedelta('51 days 13:19:00'), Timedelta('31 days 07:21:00'), Timedelta('26 days 22:50:00'), Timedelta('9 days 00:51:00'), Timedelta('56 days 02:34:00'), Timedelta('77 days 14:51:00'), Timedelta('9 days 00:31:00'), Timedelta('5 days 21:15:00'), Timedelta('8 days 09:52:00'), Timedelta('12 days 12:30:00'), Timedelta('31 days 19:28:00'), Timedelta('37 days 11:12:00'), Timedelta('19 days 14:55:00'), Timedelta('76 days 18:30:00'), Timedelta('180 days 15:03:00'), Timedelta('19 days 11:00:00'), Timedelta('18 days 14:40:00'), Timedelta('49 days 06:45:00'), Timedelta('1 days 11:00:00'), Timedelta('7 days 18:09:00'), Timedelta('81 days 00:00:00'), Timedelta('80 days 10:53:00'), Timedelta('118 days 00:00:00'), Timedelta('76 days 14:00:00'), Timedelta('52 days 09:30:00'), Timedelta('2 days 06:06:00'), Timedelta('3 days 16:09:00'), Timedelta('7 days 04:39:00'), Timedelta('27 days 17:41:00'), Timedelta('11 days 06:00:00'), Timedelta('47 days 14:47:00'), Timedelta('0 days 01:15:00'), Timedelta('20 days 07:07:00'), Timedelta('14 days 12:50:00'), Timedelta('43 days 16:27:00'), Timedelta('57 days 20:15:00'), Timedelta('13 days 00:46:00'), Timedelta('109 days 07:30:00'), Timedelta('45 days 12:45:00'), Timedelta('3 days 03:29:00'), Timedelta('37 days 09:40:00'), Timedelta('54 days 16:00:00'), Timedelta('28 days 08:00:00'), Timedelta('28 days 17:00:00'), Timedelta('129 days 09:50:00'), Timedelta('42 days 04:01:00'), Timedelta('5 days 21:49:00'), Timedelta('26 days 17:03:00'), Timedelta('0 days 07:15:00'), Timedelta('31 days 22:10:00'), Timedelta('23 days 19:20:00'), Timedelta('7 days 18:45:00'), Timedelta('4 days 02:12:00'), Timedelta('32 days 19:30:00'), Timedelta('68 days 19:33:00'), Timedelta('10 days 12:30:00'), Timedelta('56 days 00:45:00'), Timedelta('4 days 11:11:00'), Timedelta('13 days 06:00:00'), Timedelta('16 days 01:47:00'), Timedelta('10 days 16:20:00'), Timedelta('17 days 16:25:00'), Timedelta('35 days 19:00:00'), Timedelta('73 days 02:12:00'), Timedelta('39 days 12:58:00'), Timedelta('5 days 04:03:00'), Timedelta('8 days 02:00:00'), Timedelta('6 days 06:51:00'), Timedelta('46 days 12:44:00'), Timedelta('5 days 20:30:00'), Timedelta('27 days 07:20:00'), Timedelta('65 days 02:01:00'), Timedelta('4 days 17:54:00'), Timedelta('0 days 04:25:00'), Timedelta('56 days 02:40:00'), Timedelta('6 days 08:05:00'), Timedelta('1 days 23:21:00'), Timedelta('47 days 16:43:00'), Timedelta('31 days 06:12:00'), Timedelta('18 days 07:26:00'), Timedelta('19 days 00:18:00'), Timedelta('3 days 08:15:00'), Timedelta('139 days 15:00:00'), Timedelta('6 days 06:28:00'), Timedelta('1 days 10:24:00'), Timedelta('19 days 21:10:00'), Timedelta('0 days 05:49:00'), Timedelta('50 days 05:10:00'), Timedelta('8 days 05:13:00'), Timedelta('75 days 02:07:00'), Timedelta('0 days 06:16:00'), Timedelta('0 days 18:19:00'), Timedelta('18 days 23:26:00'), Timedelta('28 days 01:00:00'), Timedelta('140 days 17:45:00'), Timedelta('21 days 07:30:00'), Timedelta('64 days 14:20:00'), Timedelta('74 days 13:59:00'), Timedelta('32 days 10:57:00'), Timedelta('18 days 02:34:00'), Timedelta('3 days 20:43:00'), Timedelta('108 days 15:19:00'), Timedelta('30 days 16:00:00'), Timedelta('41 days 08:18:00'), Timedelta('104 days 05:18:00'), Timedelta('39 days 00:36:00'), Timedelta('49 days 01:00:00'), Timedelta('43 days 18:54:00'), Timedelta('12 days 16:08:00'), Timedelta('17 days 01:14:00'), Timedelta('50 days 15:49:00'), Timedelta('21 days 09:33:00'), Timedelta('41 days 00:29:00'), Timedelta('3 days 11:34:00'), Timedelta('7 days 13:25:00'), Timedelta('11 days 21:55:00'), Timedelta('23 days 08:45:00'), Timedelta('50 days 06:28:00'), Timedelta('20 days 01:48:00'), Timedelta('26 days 09:06:00'), Timedelta('7 days 16:49:00'), Timedelta('4 days 05:32:00'), Timedelta('31 days 03:19:00'), Timedelta('68 days 22:34:00'), Timedelta('36 days 21:47:00'), Timedelta('0 days 02:51:00'), Timedelta('54 days 07:45:00'), Timedelta('26 days 20:00:00'), Timedelta('55 days 20:45:00'), Timedelta('44 days 21:30:00'), Timedelta('33 days 17:43:00'), Timedelta('5 days 14:45:00'), Timedelta('28 days 14:45:00'), Timedelta('20 days 01:30:00'), Timedelta('0 days 20:31:00'), Timedelta('11 days 11:45:00'), Timedelta('54 days 19:51:00'), Timedelta('72 days 22:30:00'), Timedelta('16 days 15:52:00'), Timedelta('1 days 16:00:00'), Timedelta('43 days 02:49:00'), Timedelta('71 days 04:55:00'), Timedelta('26 days 05:44:00'), Timedelta('14 days 21:23:00'), Timedelta('68 days 09:31:00'), Timedelta('68 days 20:24:00'), Timedelta('3 days 15:40:00'), Timedelta('53 days 12:30:00'), Timedelta('23 days 19:34:00'), Timedelta('50 days 10:00:00'), Timedelta('94 days 12:23:00'), Timedelta('8 days 23:00:00'), Timedelta('51 days 08:16:00'), Timedelta('19 days 21:31:00'), Timedelta('19 days 20:55:00'), Timedelta('86 days 22:14:00'), Timedelta('33 days 01:00:00'), Timedelta('0 days 13:01:00'), Timedelta('0 days 02:51:00'), Timedelta('8 days 10:46:00'), Timedelta('8 days 11:41:00'), Timedelta('45 days 12:45:00'), Timedelta('3 days 11:34:00'), Timedelta('0 days 04:10:00'), Timedelta('0 days 08:37:00'), Timedelta('21 days 23:07:00'), Timedelta('4 days 05:00:00'), Timedelta('0 days 02:20:00'), Timedelta('7 days 16:14:00'), Timedelta('2 days 15:53:00'), Timedelta('42 days 17:58:00'), Timedelta('0 days 01:27:00'), Timedelta('63 days 18:06:00'), Timedelta('11 days 02:13:00'), Timedelta('87 days 17:09:00'), Timedelta('45 days 22:10:00'), Timedelta('1 days 14:19:00'), Timedelta('3 days 05:29:00'), Timedelta('60 days 21:35:00'), Timedelta('68 days 23:24:00'), Timedelta('43 days 01:00:00'), Timedelta('2 days 22:45:00'), Timedelta('1 days 11:26:00'), Timedelta('24 days 05:15:00'), Timedelta('71 days 09:19:00'), Timedelta('106 days 14:54:00'), Timedelta('24 days 14:05:00'), Timedelta('29 days 06:57:00'), Timedelta('3 days 17:08:00'), Timedelta('72 days 22:00:00'), Timedelta('4 days 08:15:00'), Timedelta('13 days 23:53:00'), Timedelta('57 days 08:00:00'), Timedelta('30 days 20:24:00'), Timedelta('48 days 17:57:00'), Timedelta('7 days 01:10:00'), Timedelta('35 days 00:34:00'), Timedelta('43 days 15:33:00'), Timedelta('2 days 21:26:00'), Timedelta('7 days 03:25:00'), Timedelta('104 days 01:15:00'), Timedelta('59 days 11:13:00'), Timedelta('17 days 05:00:00'), Timedelta('16 days 13:00:00'), Timedelta('13 days 10:29:00'), Timedelta('25 days 01:00:00'), Timedelta('0 days 04:00:00'), Timedelta('29 days 19:39:00'), Timedelta('54 days 01:30:00'), Timedelta('6 days 03:57:00'), Timedelta('123 days 10:30:00'), Timedelta('74 days 00:59:00'), Timedelta('43 days 07:00:00'), Timedelta('51 days 02:42:00'), Timedelta('3 days 10:49:00'), Timedelta('0 days 14:29:00'), Timedelta('85 days 16:33:00'), Timedelta('1 days 07:49:00'), Timedelta('30 days 11:00:00'), Timedelta('29 days 12:40:00'), Timedelta('58 days 13:22:00'), Timedelta('2 days 10:30:00'), Timedelta('2 days 17:36:00'), Timedelta('13 days 15:55:00'), Timedelta('29 days 13:19:00'), Timedelta('4 days 20:37:00'), Timedelta('1 days 13:17:00'), Timedelta('0 days 02:30:00'), Timedelta('35 days 13:00:00'), Timedelta('7 days 21:02:00'), Timedelta('2 days 08:20:00'), Timedelta('9 days 20:45:00'), Timedelta('1 days 18:20:00'), Timedelta('78 days 21:55:00'), Timedelta('9 days 02:07:00'), Timedelta('40 days 20:04:00'), Timedelta('16 days 10:30:00'), Timedelta('34 days 10:22:00'), Timedelta('86 days 18:27:00'), Timedelta('25 days 21:40:00'), Timedelta('12 days 05:15:00'), Timedelta('0 days 01:15:00'), Timedelta('3 days 11:19:00'), Timedelta('1 days 17:30:00'), Timedelta('82 days 14:15:00'), Timedelta('8 days 20:24:00'), Timedelta('24 days 08:00:00'), Timedelta('42 days 18:55:00'), Timedelta('4 days 00:48:00'), Timedelta('6 days 23:54:00'), Timedelta('11 days 06:30:00'), Timedelta('3 days 20:37:00'), Timedelta('0 days 08:25:00'), Timedelta('2 days 10:26:00'), Timedelta('2 days 02:22:00'), Timedelta('86 days 15:00:00'), Timedelta('2 days 18:47:00'), Timedelta('3 days 15:19:00'), Timedelta('3 days 18:37:00'), Timedelta('1 days 00:45:00'), Timedelta('21 days 23:28:00'), Timedelta('5 days 13:05:00'), Timedelta('0 days 21:53:00'), Timedelta('42 days 07:24:00'), Timedelta('7 days 12:48:00'), Timedelta('5 days 08:45:00'), Timedelta('72 days 20:53:00'), Timedelta('38 days 22:00:00'), Timedelta('6 days 14:18:00'), Timedelta('37 days 01:13:00'), Timedelta('17 days 22:40:00'), Timedelta('4 days 02:36:00'), Timedelta('77 days 03:51:00'), Timedelta('32 days 15:22:00'), Timedelta('1 days 15:50:00'), Timedelta('25 days 12:46:00'), Timedelta('14 days 16:12:00'), Timedelta('14 days 07:21:00'), Timedelta('16 days 23:30:00'), Timedelta('5 days 14:35:00'), Timedelta('2 days 02:50:00'), Timedelta('65 days 07:30:00'), Timedelta('0 days 03:33:00'), Timedelta('0 days 04:40:00'), Timedelta('3 days 08:53:00'), Timedelta('76 days 10:55:00'), Timedelta('19 days 19:14:00'), Timedelta('6 days 03:09:00'), Timedelta('60 days 21:27:00'), Timedelta('4 days 09:35:00'), Timedelta('36 days 07:55:00'), Timedelta('19 days 01:52:00'), Timedelta('13 days 11:14:00'), Timedelta('20 days 09:30:00'), Timedelta('1 days 13:58:00'), Timedelta('1 days 11:25:00'), Timedelta('5 days 20:42:00'), Timedelta('1 days 09:30:00'), Timedelta('7 days 23:16:00'), Timedelta('27 days 19:40:00'), Timedelta('7 days 07:02:00'), Timedelta('5 days 23:12:00'), Timedelta('6 days 00:00:00'), Timedelta('24 days 18:45:00'), Timedelta('35 days 13:55:00'), Timedelta('2 days 02:10:00'), Timedelta('2 days 18:01:00'), Timedelta('68 days 00:00:00'), Timedelta('0 days 17:20:00'), Timedelta('36 days 19:57:00'), Timedelta('6 days 19:36:00'), Timedelta('29 days 01:22:00'), Timedelta('101 days 09:02:00'), Timedelta('2 days 23:44:00'), Timedelta('24 days 14:30:00'), Timedelta('73 days 02:45:00'), Timedelta('0 days 00:13:00'), Timedelta('63 days 01:53:00'), Timedelta('47 days 14:50:00'), Timedelta('112 days 09:41:00'), Timedelta('145 days 16:09:00'), Timedelta('11 days 21:46:00'), Timedelta('6 days 15:08:00'), Timedelta('6 days 08:18:00'), Timedelta('30 days 10:43:00'), Timedelta('8 days 19:50:00'), Timedelta('0 days 01:35:00'), Timedelta('4 days 03:54:00'), Timedelta('10 days 23:25:00'), Timedelta('35 days 11:30:00'), Timedelta('25 days 00:56:00'), Timedelta('13 days 00:00:00'), Timedelta('16 days 00:57:00'), Timedelta('0 days 04:23:00'), Timedelta('0 days 09:00:00'), Timedelta('65 days 12:00:00'), Timedelta('12 days 06:35:00'), Timedelta('21 days 06:45:00'), Timedelta('6 days 06:45:00'), Timedelta('58 days 18:00:00'), Timedelta('0 days 01:00:00'), Timedelta('38 days 19:20:00'), Timedelta('8 days 03:51:00'), Timedelta('26 days 04:44:00'), Timedelta('34 days 08:20:00'), Timedelta('6 days 05:41:00'), Timedelta('55 days 05:15:00'), Timedelta('42 days 10:28:00'), Timedelta('25 days 09:01:00'), Timedelta('16 days 12:40:00'), Timedelta('15 days 09:31:00'), Timedelta('105 days 23:45:00'), Timedelta('0 days 11:27:00'), Timedelta('43 days 12:15:00'), Timedelta('10 days 23:08:00'), Timedelta('25 days 22:23:00'), Timedelta('46 days 15:32:00'), Timedelta('0 days 09:17:00'), Timedelta('29 days 02:23:00'), Timedelta('61 days 23:10:00'), Timedelta('65 days 17:00:00'), Timedelta('26 days 01:38:00'), Timedelta('112 days 17:57:00'), Timedelta('4 days 19:00:00'), Timedelta('10 days 23:53:00'), Timedelta('5 days 01:10:00'), Timedelta('32 days 22:45:00'), Timedelta('1 days 12:30:00'), Timedelta('51 days 15:57:00'), Timedelta('11 days 00:34:00'), Timedelta('16 days 05:00:00'), Timedelta('11 days 09:21:00'), Timedelta('3 days 18:59:00'), Timedelta('47 days 02:51:00'), Timedelta('38 days 15:26:00'), Timedelta('7 days 18:15:00'), Timedelta('128 days 01:00:00'), Timedelta('97 days 19:30:00'), Timedelta('33 days 05:00:00'), Timedelta('5 days 15:23:00'), Timedelta('5 days 06:55:00'), Timedelta('30 days 10:00:00'), Timedelta('4 days 20:54:00'), Timedelta('9 days 20:50:00'), Timedelta('57 days 22:25:00'), Timedelta('23 days 23:05:00'), Timedelta('12 days 19:05:00'), Timedelta('169 days 22:11:00'), Timedelta('40 days 14:53:00'), Timedelta('57 days 03:47:00'), Timedelta('24 days 23:00:00'), Timedelta('0 days 06:50:00'), Timedelta('13 days 00:49:00'), Timedelta('33 days 06:48:00'), Timedelta('4 days 22:45:00'), Timedelta('0 days 03:29:00'), Timedelta('53 days 00:00:00'), Timedelta('58 days 17:11:00'), Timedelta('14 days 01:00:00'), Timedelta('156 days 22:30:00'), Timedelta('0 days 23:45:00'), Timedelta('42 days 11:35:00'), Timedelta('9 days 02:11:00'), Timedelta('18 days 07:45:00'), Timedelta('43 days 19:15:00'), Timedelta('20 days 12:40:00'), Timedelta('18 days 05:54:00'), Timedelta('17 days 10:52:00'), Timedelta('8 days 19:42:00'), Timedelta('96 days 06:30:00'), Timedelta('0 days 14:18:00'), Timedelta('17 days 11:54:00'), Timedelta('17 days 07:11:00'), Timedelta('46 days 12:18:00'), Timedelta('15 days 15:10:00'), Timedelta('23 days 07:40:00'), Timedelta('89 days 02:34:00'), Timedelta('118 days 21:57:00'), Timedelta('14 days 17:53:00'), Timedelta('295 days 14:31:00'), Timedelta('16 days 02:15:00'), Timedelta('3 days 00:46:00'), Timedelta('5 days 13:25:00'), Timedelta('7 days 09:45:00'), Timedelta('14 days 00:30:00'), Timedelta('35 days 09:07:00'), Timedelta('15 days 19:06:00'), Timedelta('13 days 17:49:00'), Timedelta('27 days 11:25:00'), Timedelta('16 days 07:25:00'), Timedelta('1 days 09:00:00'), Timedelta('94 days 01:16:00'), Timedelta('15 days 00:03:00'), Timedelta('18 days 13:45:00'), Timedelta('61 days 10:45:00'), Timedelta('5 days 23:10:00'), Timedelta('0 days 19:15:00'), Timedelta('37 days 09:41:00'), Timedelta('103 days 08:57:00'), Timedelta('15 days 22:41:00'), Timedelta('44 days 04:32:00'), Timedelta('0 days 22:45:00'), Timedelta('19 days 15:00:00'), Timedelta('44 days 13:10:00'), Timedelta('84 days 19:00:00'), Timedelta('1 days 07:55:00'), Timedelta('36 days 02:00:00'), Timedelta('90 days 04:13:00'), Timedelta('52 days 06:39:00'), Timedelta('0 days 15:18:00'), Timedelta('59 days 10:30:00'), Timedelta('29 days 08:31:00'), Timedelta('12 days 03:24:00'), Timedelta('85 days 21:10:00'), Timedelta('16 days 23:49:00'), Timedelta('11 days 04:47:00'), Timedelta('1 days 23:11:00'), Timedelta('21 days 20:00:00'), Timedelta('81 days 10:06:00'), Timedelta('32 days 23:18:00'), Timedelta('3 days 11:33:00'), Timedelta('148 days 00:00:00'), Timedelta('38 days 23:21:00'), Timedelta('0 days 00:00:00'), Timedelta('31 days 05:04:00'), Timedelta('8 days 10:30:00'), Timedelta('1 days 04:17:00'), Timedelta('86 days 14:42:00'), Timedelta('78 days 19:20:00'), Timedelta('22 days 10:25:00'), Timedelta('20 days 11:00:00'), Timedelta('5 days 01:00:00'), Timedelta('1 days 03:45:00'), Timedelta('25 days 23:19:00'), Timedelta('54 days 05:24:00'), Timedelta('8 days 17:05:00'), Timedelta('14 days 19:28:00'), Timedelta('32 days 23:00:00'), Timedelta('33 days 00:54:00'), Timedelta('18 days 19:00:00'), Timedelta('1 days 23:29:00'), Timedelta('21 days 04:35:00'), Timedelta('8 days 09:44:00'), Timedelta('23 days 16:55:00'), Timedelta('31 days 21:15:00'), Timedelta('2 days 19:03:00'), Timedelta('8 days 20:00:00'), Timedelta('63 days 22:32:00'), Timedelta('46 days 20:15:00'), Timedelta('4 days 05:21:00'), Timedelta('5 days 18:30:00'), Timedelta('19 days 15:43:00'), Timedelta('11 days 03:00:00'), Timedelta('0 days 05:32:00'), Timedelta('40 days 12:39:00'), Timedelta('129 days 20:08:00'), Timedelta('191 days 01:03:00'), Timedelta('8 days 15:03:00'), Timedelta('39 days 21:14:00'), Timedelta('46 days 02:15:00'), Timedelta('111 days 23:24:00'), Timedelta('781 days 08:00:00'), Timedelta('278 days 15:44:00')]\n"
          ],
          "name": "stdout"
        }
      ]
    },
    {
      "cell_type": "code",
      "metadata": {
        "id": "ovLcDkYObxDp",
        "outputId": "3351d7f6-a522-4600-e4be-f5527c94c132",
        "colab": {
          "base_uri": "https://localhost:8080/",
          "height": 189
        }
      },
      "source": [
        "ewt_secs=timeonset_dff.EWT.dt.total_seconds() \n",
        "ewt_secs_list = ewt_secs.tolist()\n",
        "ewt_hrs = [j/3600 for j in ewt_secs_list]\n",
        "timeonset_dff['EWT in hours'] = ewt_hrs\n",
        "timeonset_dff.head()"
      ],
      "execution_count": 224,
      "outputs": [
        {
          "output_type": "execute_result",
          "data": {
            "text/html": [
              "<div>\n",
              "<style scoped>\n",
              "    .dataframe tbody tr th:only-of-type {\n",
              "        vertical-align: middle;\n",
              "    }\n",
              "\n",
              "    .dataframe tbody tr th {\n",
              "        vertical-align: top;\n",
              "    }\n",
              "\n",
              "    .dataframe thead th {\n",
              "        text-align: right;\n",
              "    }\n",
              "</style>\n",
              "<table border=\"1\" class=\"dataframe\">\n",
              "  <thead>\n",
              "    <tr style=\"text-align: right;\">\n",
              "      <th></th>\n",
              "      <th>Unnamed: 0</th>\n",
              "      <th>onsets</th>\n",
              "      <th>subjects</th>\n",
              "      <th>EWT</th>\n",
              "      <th>EWT in hours</th>\n",
              "    </tr>\n",
              "  </thead>\n",
              "  <tbody>\n",
              "    <tr>\n",
              "      <th>0</th>\n",
              "      <td>758</td>\n",
              "      <td>2100-09-08 08:27:00</td>\n",
              "      <td>253527</td>\n",
              "      <td>91 days 07:09:00</td>\n",
              "      <td>2191.15</td>\n",
              "    </tr>\n",
              "    <tr>\n",
              "      <th>1</th>\n",
              "      <td>122</td>\n",
              "      <td>2100-09-18 18:20:00</td>\n",
              "      <td>249669</td>\n",
              "      <td>8 days 10:30:00</td>\n",
              "      <td>202.50</td>\n",
              "    </tr>\n",
              "    <tr>\n",
              "      <th>2</th>\n",
              "      <td>1056</td>\n",
              "      <td>2100-09-29 03:54:00</td>\n",
              "      <td>206577</td>\n",
              "      <td>10 days 08:54:00</td>\n",
              "      <td>248.90</td>\n",
              "    </tr>\n",
              "    <tr>\n",
              "      <th>3</th>\n",
              "      <td>330</td>\n",
              "      <td>2101-04-16 19:15:00</td>\n",
              "      <td>249146</td>\n",
              "      <td>197 days 06:45:00</td>\n",
              "      <td>4734.75</td>\n",
              "    </tr>\n",
              "    <tr>\n",
              "      <th>4</th>\n",
              "      <td>1044</td>\n",
              "      <td>2101-06-13 15:00:00</td>\n",
              "      <td>240163</td>\n",
              "      <td>57 days 19:00:00</td>\n",
              "      <td>1387.00</td>\n",
              "    </tr>\n",
              "  </tbody>\n",
              "</table>\n",
              "</div>"
            ],
            "text/plain": [
              "   Unnamed: 0              onsets  subjects               EWT  EWT in hours\n",
              "0         758 2100-09-08 08:27:00    253527  91 days 07:09:00       2191.15\n",
              "1         122 2100-09-18 18:20:00    249669   8 days 10:30:00        202.50\n",
              "2        1056 2100-09-29 03:54:00    206577  10 days 08:54:00        248.90\n",
              "3         330 2101-04-16 19:15:00    249146 197 days 06:45:00       4734.75\n",
              "4        1044 2101-06-13 15:00:00    240163  57 days 19:00:00       1387.00"
            ]
          },
          "metadata": {
            "tags": []
          },
          "execution_count": 224
        }
      ]
    },
    {
      "cell_type": "code",
      "metadata": {
        "id": "J1-EJlcmgcuo",
        "outputId": "d4da7c99-c3e9-4696-df26-ee94ec3ee85a",
        "colab": {
          "base_uri": "https://localhost:8080/",
          "height": 312
        }
      },
      "source": [
        "timeonset_dff.hist(column='EWT in hours', bins = 20, range=[0, 50])\n",
        "plt.title('Histogram of EWT for the test data')\n",
        "plt.xlabel('EWT in hours')\n",
        "plt.ylabel('Frequency')\n"
      ],
      "execution_count": 240,
      "outputs": [
        {
          "output_type": "execute_result",
          "data": {
            "text/plain": [
              "Text(0, 0.5, 'Frequency')"
            ]
          },
          "metadata": {
            "tags": []
          },
          "execution_count": 240
        },
        {
          "output_type": "display_data",
          "data": {
            "image/png": "[encoded data removed]",
            "text/plain": [
              "<Figure size 432x288 with 1 Axes>"
            ]
          },
          "metadata": {
            "tags": [],
            "needs_background": "light"
          }
        }
      ]
    }
  ]
}