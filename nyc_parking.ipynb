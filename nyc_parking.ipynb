{
  "nbformat": 4,
  "nbformat_minor": 0,
  "metadata": {
    "colab": {
      "name": "nyc-parking.ipynb",
      "provenance": [],
      "collapsed_sections": [],
      "authorship_tag": "ABX9TyP4wfGqnlndnGEPwzh5tSAK",
      "include_colab_link": true
    },
    "kernelspec": {
      "name": "python3",
      "display_name": "Python 3"
    }
  },
  "cells": [
    {
      "cell_type": "markdown",
      "metadata": {
        "id": "view-in-github",
        "colab_type": "text"
      },
      "source": [
        "<a href=\"https://colab.research.google.com/github/VamBay/DS4BME_YUANWEI_XU/blob/master/nyc_parking.ipynb\" target=\"_parent\"><img src=\"https://colab.research.google.com/assets/colab-badge.svg\" alt=\"Open In Colab\"/></a>"
      ]
    },
    {
      "cell_type": "code",
      "metadata": {
        "id": "ea-SUjFM1VSA"
      },
      "source": [
        "import numpy as np\n",
        "import matplotlib.pyplot as plt\n",
        "import pandas as pd"
      ],
      "execution_count": null,
      "outputs": []
    },
    {
      "cell_type": "code",
      "metadata": {
        "colab": {
          "base_uri": "https://localhost:8080/"
        },
        "id": "1u-kK7RE2H85",
        "outputId": "3570bfb2-cf8c-4b4a-b1db-37c10b5a1db1"
      },
      "source": [
        "#===========================================\n",
        "# Read data.  Change DATAPATH if necessary\n",
        "#===========================================\n",
        "try:\n",
        "    # Executes if running in Google Colab\n",
        "    from google.colab import drive\n",
        "    drive.mount('gdrive/')\n",
        "    DATAPATH = \"gdrive/My Drive/DS4BME/\" # Change path to location of data if necessary\n",
        "except:\n",
        "    # Executes if running locally (e.g. Anaconda)\n",
        "    DATAPATH = \"./\""
      ],
      "execution_count": null,
      "outputs": [
        {
          "output_type": "stream",
          "text": [
            "Mounted at gdrive/\n"
          ],
          "name": "stdout"
        }
      ]
    },
    {
      "cell_type": "code",
      "metadata": {
        "colab": {
          "base_uri": "https://localhost:8080/",
          "height": 189
        },
        "id": "ON_P5ZSL2mq4",
        "outputId": "66a9365b-1635-4f5c-cd1e-7be22afb27c0"
      },
      "source": [
        "df = traindata = pd.read_csv('/'.join((DATAPATH,'nyc_parking_tickets.csv')))\n",
        "df.head()"
      ],
      "execution_count": null,
      "outputs": [
        {
          "output_type": "execute_result",
          "data": {
            "text/html": [
              "<div>\n",
              "<style scoped>\n",
              "    .dataframe tbody tr th:only-of-type {\n",
              "        vertical-align: middle;\n",
              "    }\n",
              "\n",
              "    .dataframe tbody tr th {\n",
              "        vertical-align: top;\n",
              "    }\n",
              "\n",
              "    .dataframe thead th {\n",
              "        text-align: right;\n",
              "    }\n",
              "</style>\n",
              "<table border=\"1\" class=\"dataframe\">\n",
              "  <thead>\n",
              "    <tr style=\"text-align: right;\">\n",
              "      <th></th>\n",
              "      <th>Plate_ID</th>\n",
              "      <th>Registration_State</th>\n",
              "      <th>Plate_Type</th>\n",
              "      <th>Vehicle_Make</th>\n",
              "      <th>Issuer_Code</th>\n",
              "      <th>Street_Name</th>\n",
              "      <th>Vehicle_Year</th>\n",
              "    </tr>\n",
              "  </thead>\n",
              "  <tbody>\n",
              "    <tr>\n",
              "      <th>0</th>\n",
              "      <td>658ZOV</td>\n",
              "      <td>CT</td>\n",
              "      <td>PAS</td>\n",
              "      <td>JEEP</td>\n",
              "      <td>929329</td>\n",
              "      <td>STEUBEN ST</td>\n",
              "      <td>0</td>\n",
              "    </tr>\n",
              "    <tr>\n",
              "      <th>1</th>\n",
              "      <td>BE11259</td>\n",
              "      <td>NY</td>\n",
              "      <td>COM</td>\n",
              "      <td>NaN</td>\n",
              "      <td>944623</td>\n",
              "      <td>3RD</td>\n",
              "      <td>0</td>\n",
              "    </tr>\n",
              "    <tr>\n",
              "      <th>2</th>\n",
              "      <td>GYA6065</td>\n",
              "      <td>NY</td>\n",
              "      <td>PAS</td>\n",
              "      <td>GMC</td>\n",
              "      <td>915643</td>\n",
              "      <td>MERRICK BLVD</td>\n",
              "      <td>2014</td>\n",
              "    </tr>\n",
              "    <tr>\n",
              "      <th>3</th>\n",
              "      <td>28648MH</td>\n",
              "      <td>NY</td>\n",
              "      <td>COM</td>\n",
              "      <td>MERCU</td>\n",
              "      <td>950103</td>\n",
              "      <td>CHRISTOPHER ST</td>\n",
              "      <td>0</td>\n",
              "    </tr>\n",
              "    <tr>\n",
              "      <th>4</th>\n",
              "      <td>DTY8552</td>\n",
              "      <td>NY</td>\n",
              "      <td>PAS</td>\n",
              "      <td>TOYOT</td>\n",
              "      <td>959536</td>\n",
              "      <td>UNION ST</td>\n",
              "      <td>2015</td>\n",
              "    </tr>\n",
              "  </tbody>\n",
              "</table>\n",
              "</div>"
            ],
            "text/plain": [
              "  Plate_ID Registration_State  ...     Street_Name Vehicle_Year\n",
              "0   658ZOV                 CT  ...      STEUBEN ST            0\n",
              "1  BE11259                 NY  ...             3RD            0\n",
              "2  GYA6065                 NY  ...    MERRICK BLVD         2014\n",
              "3  28648MH                 NY  ...  CHRISTOPHER ST            0\n",
              "4  DTY8552                 NY  ...        UNION ST         2015\n",
              "\n",
              "[5 rows x 7 columns]"
            ]
          },
          "metadata": {
            "tags": []
          },
          "execution_count": 42
        }
      ]
    },
    {
      "cell_type": "markdown",
      "metadata": {
        "id": "Nc9ND6fg3Tyy"
      },
      "source": [
        "##Step 1##"
      ]
    },
    {
      "cell_type": "code",
      "metadata": {
        "colab": {
          "base_uri": "https://localhost:8080/"
        },
        "id": "UJ086b693TAT",
        "outputId": "b8831164-60ac-4ac8-d970-ff651014e3c7"
      },
      "source": [
        "print(df.shape[0], \"records were read from file.\")"
      ],
      "execution_count": null,
      "outputs": [
        {
          "output_type": "stream",
          "text": [
            "3136 records were read from file.\n"
          ],
          "name": "stdout"
        }
      ]
    },
    {
      "cell_type": "markdown",
      "metadata": {
        "id": "yIOgKEaq4OiC"
      },
      "source": [
        "##Step 2##"
      ]
    },
    {
      "cell_type": "code",
      "metadata": {
        "id": "pKpU594Z3N3X"
      },
      "source": [
        "df.dropna()\n",
        "\n",
        "df = df.loc[df['Issuer_Code'] * df['Vehicle_Year'] != 0] #drop rows with '0' Issuer_Code or Vehicle_Year\n",
        "\n",
        "df_99state = df[df.Registration_State.apply(lambda x: x.isnumeric())] #identify rows with invalid states\n",
        "df_999plate = df[df.Plate_Type.apply(lambda x: x.isnumeric())] #identify rows with invalid plates\n",
        "\n",
        "cond1 = df['Registration_State'].isin(df_99state['Registration_State']) #drop rows with invalid states\n",
        "df.drop(df[cond1].index, inplace = True)\n",
        "\n",
        "cond2 = df['Plate_Type'].isin(df_999plate['Plate_Type']) #drop rows with invalid plates\n",
        "df.drop(df[cond2].index, inplace = True)"
      ],
      "execution_count": null,
      "outputs": []
    },
    {
      "cell_type": "code",
      "metadata": {
        "colab": {
          "base_uri": "https://localhost:8080/"
        },
        "id": "xj0nqnYJ5qXJ",
        "outputId": "a4530443-9125-43ad-c12e-f8abc4a540dc"
      },
      "source": [
        "df = df[df['Vehicle_Year'] < 2018] #keep years before 2018\n",
        "df.shape"
      ],
      "execution_count": null,
      "outputs": [
        {
          "output_type": "execute_result",
          "data": {
            "text/plain": [
              "(2989, 7)"
            ]
          },
          "metadata": {
            "tags": []
          },
          "execution_count": 58
        }
      ]
    },
    {
      "cell_type": "code",
      "metadata": {
        "colab": {
          "base_uri": "https://localhost:8080/"
        },
        "id": "kIc4I5lJ_Rmh",
        "outputId": "9655818c-e21d-4629-9f28-824cbb2fc541"
      },
      "source": [
        "print(df.shape[0], \"records left after cleanup.\")"
      ],
      "execution_count": null,
      "outputs": [
        {
          "output_type": "stream",
          "text": [
            "2989 records left after cleanup.\n"
          ],
          "name": "stdout"
        }
      ]
    },
    {
      "cell_type": "markdown",
      "metadata": {
        "id": "6doHUq1X_7gU"
      },
      "source": [
        "##Step 3##"
      ]
    },
    {
      "cell_type": "code",
      "metadata": {
        "colab": {
          "base_uri": "https://localhost:8080/",
          "height": 282
        },
        "id": "ygBw_Jau_-en",
        "outputId": "6d3abdb1-161c-4f8a-d668-9807b5f32573"
      },
      "source": [
        "year_tickets_df = df.groupby('Vehicle_Year').count()\n",
        "year_tickets_df = year_tickets_df.iloc[:, 0]\n",
        "year_tickets_df.plot(xlabel='')"
      ],
      "execution_count": null,
      "outputs": [
        {
          "output_type": "execute_result",
          "data": {
            "text/plain": [
              "<matplotlib.axes._subplots.AxesSubplot at 0x7fb2b9c045f8>"
            ]
          },
          "metadata": {
            "tags": []
          },
          "execution_count": 83
        },
        {
          "output_type": "display_data",
          "data": {
            "image/png": "[encoded data removed]",
            "text/plain": [
              "<Figure size 432x288 with 1 Axes>"
            ]
          },
          "metadata": {
            "tags": [],
            "needs_background": "light"
          }
        }
      ]
    },
    {
      "cell_type": "markdown",
      "metadata": {
        "id": "wfafMxxJElgT"
      },
      "source": [
        "##Step 4##"
      ]
    },
    {
      "cell_type": "code",
      "metadata": {
        "colab": {
          "base_uri": "https://localhost:8080/"
        },
        "id": "JKsAuIQDEoNK",
        "outputId": "d92b35a2-1400-40bf-abf7-54de028a6131"
      },
      "source": [
        "make_tickets_df = df.groupby('Vehicle_Make').count()\n",
        "make_tickets_df = make_tickets_df.sort_values(by='Plate_ID', ascending=False)\n",
        "make_tickets_df = make_tickets_df.iloc[:, 0]\n",
        "print(\"Top 5 vehicle-makes with the most tickets...\\n\", make_tickets_df.head(5))"
      ],
      "execution_count": null,
      "outputs": [
        {
          "output_type": "stream",
          "text": [
            "Top 5 vehicle-makes with the most tickets...\n",
            " Vehicle_Make\n",
            "FORD     336\n",
            "FRUEH    276\n",
            "TOYOT    274\n",
            "HONDA    230\n",
            "NISSA    202\n",
            "Name: Plate_ID, dtype: int64\n"
          ],
          "name": "stdout"
        }
      ]
    },
    {
      "cell_type": "markdown",
      "metadata": {
        "id": "PX59lQ2JF0I5"
      },
      "source": [
        "##Step 5##"
      ]
    },
    {
      "cell_type": "code",
      "metadata": {
        "colab": {
          "base_uri": "https://localhost:8080/"
        },
        "id": "VgV6keMbF2ps",
        "outputId": "2e1bef4f-b235-47be-db7f-e9a6b1c86ea7"
      },
      "source": [
        "street_tickets_df = df.groupby('Street_Name').count()\n",
        "street_tickets_df = street_tickets_df.sort_values(by='Plate_ID', ascending=False)\n",
        "street_tickets_df = street_tickets_df.iloc[:, 0]\n",
        "print(\"The street where commercial vehicles got the most ticket:\\n\", street_tickets_df.head(1))"
      ],
      "execution_count": null,
      "outputs": [
        {
          "output_type": "stream",
          "text": [
            "The street where commercial vehicles got the most ticket:\n",
            " Street_Name\n",
            "BROADWAY    72\n",
            "Name: Plate_ID, dtype: int64\n"
          ],
          "name": "stdout"
        }
      ]
    },
    {
      "cell_type": "markdown",
      "metadata": {
        "id": "P6v7geoDGnwV"
      },
      "source": [
        "##Step 6##"
      ]
    },
    {
      "cell_type": "code",
      "metadata": {
        "colab": {
          "base_uri": "https://localhost:8080/",
          "height": 246
        },
        "id": "g4sPODi4GpYZ",
        "outputId": "fec959e5-6805-4c4a-93d4-08186e0665d9"
      },
      "source": [
        "state_year_df = df[['Registration_State', 'Vehicle_Year']]\n",
        "state_year_df = state_year_df.groupby('Registration_State').agg({'mean'})\n",
        "state_year_df = state_year_df.apply(lambda x: x.sort_values(ascending=False))\n",
        "state_year_df.head()"
      ],
      "execution_count": null,
      "outputs": [
        {
          "output_type": "execute_result",
          "data": {
            "text/html": [
              "<div>\n",
              "<style scoped>\n",
              "    .dataframe tbody tr th:only-of-type {\n",
              "        vertical-align: middle;\n",
              "    }\n",
              "\n",
              "    .dataframe tbody tr th {\n",
              "        vertical-align: top;\n",
              "    }\n",
              "\n",
              "    .dataframe thead tr th {\n",
              "        text-align: left;\n",
              "    }\n",
              "\n",
              "    .dataframe thead tr:last-of-type th {\n",
              "        text-align: right;\n",
              "    }\n",
              "</style>\n",
              "<table border=\"1\" class=\"dataframe\">\n",
              "  <thead>\n",
              "    <tr>\n",
              "      <th></th>\n",
              "      <th>Vehicle_Year</th>\n",
              "    </tr>\n",
              "    <tr>\n",
              "      <th></th>\n",
              "      <th>mean</th>\n",
              "    </tr>\n",
              "    <tr>\n",
              "      <th>Registration_State</th>\n",
              "      <th></th>\n",
              "    </tr>\n",
              "  </thead>\n",
              "  <tbody>\n",
              "    <tr>\n",
              "      <th>MS</th>\n",
              "      <td>2017.0</td>\n",
              "    </tr>\n",
              "    <tr>\n",
              "      <th>OH</th>\n",
              "      <td>2017.0</td>\n",
              "    </tr>\n",
              "    <tr>\n",
              "      <th>KY</th>\n",
              "      <td>2016.0</td>\n",
              "    </tr>\n",
              "    <tr>\n",
              "      <th>GA</th>\n",
              "      <td>2016.0</td>\n",
              "    </tr>\n",
              "    <tr>\n",
              "      <th>NV</th>\n",
              "      <td>2016.0</td>\n",
              "    </tr>\n",
              "  </tbody>\n",
              "</table>\n",
              "</div>"
            ],
            "text/plain": [
              "                   Vehicle_Year\n",
              "                           mean\n",
              "Registration_State             \n",
              "MS                       2017.0\n",
              "OH                       2017.0\n",
              "KY                       2016.0\n",
              "GA                       2016.0\n",
              "NV                       2016.0"
            ]
          },
          "metadata": {
            "tags": []
          },
          "execution_count": 110
        }
      ]
    },
    {
      "cell_type": "code",
      "metadata": {
        "colab": {
          "base_uri": "https://localhost:8080/"
        },
        "id": "P78VMfuWI7Xq",
        "outputId": "64ef6de6-b0ca-47f9-fe58-d71fa7e89cd8"
      },
      "source": [
        "print(\"The state with newest vehicles:\\n\", state_year_df.head(1))"
      ],
      "execution_count": null,
      "outputs": [
        {
          "output_type": "stream",
          "text": [
            "The state with newest vehicles:\n",
            "                    Vehicle_Year\n",
            "                           mean\n",
            "Registration_State             \n",
            "MS                       2017.0\n"
          ],
          "name": "stdout"
        }
      ]
    },
    {
      "cell_type": "code",
      "metadata": {
        "colab": {
          "base_uri": "https://localhost:8080/"
        },
        "id": "pA28OqS2JKAN",
        "outputId": "1d39c88c-0e0b-4862-b744-b2d192ace65e"
      },
      "source": [
        "print(\"The state with oldest vehicles:\\n\", state_year_df.tail(1))"
      ],
      "execution_count": null,
      "outputs": [
        {
          "output_type": "stream",
          "text": [
            "The state with oldest vehicles:\n",
            "                    Vehicle_Year\n",
            "                           mean\n",
            "Registration_State             \n",
            "ME                       1993.0\n"
          ],
          "name": "stdout"
        }
      ]
    },
    {
      "cell_type": "markdown",
      "metadata": {
        "id": "von0n5CU3Os_"
      },
      "source": [
        ""
      ]
    }
  ]
}